{
 "cells": [
  {
   "cell_type": "code",
   "execution_count": 1,
   "id": "65d81b49-1159-4469-9069-4c47480dc3c8",
   "metadata": {},
   "outputs": [],
   "source": [
    "import pandas as pd\n",
    "# from bs4 import BeautifulSoup\n",
    "import emoji\n",
    "# from transformers import BertTokenizer, BertForSequenceClassification, Trainer, TrainingArguments\n",
    "from sklearn.model_selection import train_test_split\n",
    "import re\n",
    "import nltk\n",
    "from nltk.stem import WordNetLemmatizer\n",
    "from nltk.tokenize import word_tokenize\n",
    "# from nltk.stem import WordNetLemmatizer\n",
    "from nltk import pos_tag\n",
    "import sklearn\n",
    "import numpy as np\n",
    "import random\n",
    "import os"
   ]
  },
  {
   "cell_type": "markdown",
   "id": "45412eac-9c6a-4fff-a16f-3f0856892629",
   "metadata": {},
   "source": [
    "# Возьмем очищенный и обработанный сэмпл данных с прошлого дз"
   ]
  },
  {
   "cell_type": "code",
   "execution_count": 2,
   "id": "b3e04e42-74f9-459f-9a33-8418ab068d29",
   "metadata": {},
   "outputs": [],
   "source": [
    "sample_data = pd.read_csv('sampled_clean_text.csv')"
   ]
  },
  {
   "cell_type": "markdown",
   "id": "c1abc8b7-d944-4a86-9961-e7e3201eef01",
   "metadata": {},
   "source": [
    "### на всякий случай, чтобы пролезло в github я заархивировал, но я использовал без архивирования"
   ]
  },
  {
   "cell_type": "code",
   "execution_count": 3,
   "id": "896fbb9a-96f6-46a6-ac7a-a3eaab5a4d8a",
   "metadata": {},
   "outputs": [],
   "source": [
    "sample_data.drop('Unnamed: 0', axis=1, inplace=True)"
   ]
  },
  {
   "cell_type": "code",
   "execution_count": 4,
   "id": "86a832f7-b941-46f7-87b2-0244d305e2ee",
   "metadata": {},
   "outputs": [
    {
     "data": {
      "text/html": [
       "<div>\n",
       "<style scoped>\n",
       "    .dataframe tbody tr th:only-of-type {\n",
       "        vertical-align: middle;\n",
       "    }\n",
       "\n",
       "    .dataframe tbody tr th {\n",
       "        vertical-align: top;\n",
       "    }\n",
       "\n",
       "    .dataframe thead th {\n",
       "        text-align: right;\n",
       "    }\n",
       "</style>\n",
       "<table border=\"1\" class=\"dataframe\">\n",
       "  <thead>\n",
       "    <tr style=\"text-align: right;\">\n",
       "      <th></th>\n",
       "      <th>index</th>\n",
       "      <th>text</th>\n",
       "      <th>title</th>\n",
       "      <th>topic</th>\n",
       "    </tr>\n",
       "  </thead>\n",
       "  <tbody>\n",
       "    <tr>\n",
       "      <th>0</th>\n",
       "      <td>149397</td>\n",
       "      <td>ученый новосибирский институт химический биоло...</td>\n",
       "      <td>сибирский ученый открыть новый способ выявлени...</td>\n",
       "      <td>69-я параллель</td>\n",
       "    </tr>\n",
       "    <tr>\n",
       "      <th>1</th>\n",
       "      <td>142717</td>\n",
       "      <td>норильский никель планировать год инвестироват...</td>\n",
       "      <td>норникель потратить инвестиция миллиард доллар...</td>\n",
       "      <td>69-я параллель</td>\n",
       "    </tr>\n",
       "    <tr>\n",
       "      <th>2</th>\n",
       "      <td>50131</td>\n",
       "      <td>министерство труд предложить дарить мать набор...</td>\n",
       "      <td>минтруд собраться раздать новорожденный чепчик...</td>\n",
       "      <td>69-я параллель</td>\n",
       "    </tr>\n",
       "    <tr>\n",
       "      <th>3</th>\n",
       "      <td>139634</td>\n",
       "      <td>полуостров ямал турист разработать маршрут пос...</td>\n",
       "      <td>турист ямал предложить посетить самый восточны...</td>\n",
       "      <td>69-я параллель</td>\n",
       "    </tr>\n",
       "    <tr>\n",
       "      <th>4</th>\n",
       "      <td>105236</td>\n",
       "      <td>миллиард рубль инвестировать строительство нов...</td>\n",
       "      <td>создание мурманский транспортный узел вложить ...</td>\n",
       "      <td>69-я параллель</td>\n",
       "    </tr>\n",
       "  </tbody>\n",
       "</table>\n",
       "</div>"
      ],
      "text/plain": [
       "    index                                               text  \\\n",
       "0  149397  ученый новосибирский институт химический биоло...   \n",
       "1  142717  норильский никель планировать год инвестироват...   \n",
       "2   50131  министерство труд предложить дарить мать набор...   \n",
       "3  139634  полуостров ямал турист разработать маршрут пос...   \n",
       "4  105236  миллиард рубль инвестировать строительство нов...   \n",
       "\n",
       "                                               title           topic  \n",
       "0  сибирский ученый открыть новый способ выявлени...  69-я параллель  \n",
       "1  норникель потратить инвестиция миллиард доллар...  69-я параллель  \n",
       "2  минтруд собраться раздать новорожденный чепчик...  69-я параллель  \n",
       "3  турист ямал предложить посетить самый восточны...  69-я параллель  \n",
       "4  создание мурманский транспортный узел вложить ...  69-я параллель  "
      ]
     },
     "execution_count": 4,
     "metadata": {},
     "output_type": "execute_result"
    }
   ],
   "source": [
    "sample_data.head()"
   ]
  },
  {
   "cell_type": "markdown",
   "id": "9e891f19-b86a-48b5-b6eb-f8a16400efe1",
   "metadata": {},
   "source": [
    "Зафиксируем все сиды "
   ]
  },
  {
   "cell_type": "code",
   "execution_count": 5,
   "id": "b4fe852f-fe47-42cb-92c8-b745a1a0f433",
   "metadata": {},
   "outputs": [
    {
     "name": "stdout",
     "output_type": "stream",
     "text": [
      "Random seed set as 42\n"
     ]
    }
   ],
   "source": [
    "RANDOM_STATE = 42\n",
    "\n",
    "def set_seed(seed: int = RANDOM_STATE) -> None:\n",
    "    np.random.seed(seed)\n",
    "    random.seed(seed)\n",
    "    os.environ[\"PYTHONHASHSEED\"] = str(seed)\n",
    "    print(f\"Random seed set as {seed}\")\n",
    "\n",
    "set_seed(RANDOM_STATE)"
   ]
  },
  {
   "cell_type": "markdown",
   "id": "87c3e7de-bae5-4334-b4cf-1d9fb97eb409",
   "metadata": {},
   "source": [
    "Посмотрим, все ли данные являются текстом в выборке, если нет, то удалим этот объект"
   ]
  },
  {
   "cell_type": "code",
   "execution_count": 6,
   "id": "928a33f3-c9d6-44ec-a552-b72a1402332a",
   "metadata": {},
   "outputs": [
    {
     "name": "stdout",
     "output_type": "stream",
     "text": [
      "nan <class 'float'>\n"
     ]
    }
   ],
   "source": [
    "for tt in sample_data['text'].tolist():\n",
    "    if not isinstance(tt, str):\n",
    "        print(tt, type(tt))"
   ]
  },
  {
   "cell_type": "code",
   "execution_count": 7,
   "id": "ca667381-409d-4b25-b905-f522481c2c73",
   "metadata": {},
   "outputs": [],
   "source": [
    "sample_data = sample_data.dropna(subset=['text'])"
   ]
  },
  {
   "cell_type": "code",
   "execution_count": 8,
   "id": "d4ac5fec-af8b-419c-a451-760f28854445",
   "metadata": {},
   "outputs": [],
   "source": [
    "for tt in sample_data['text'].tolist():\n",
    "    if isinstance(tt, float):\n",
    "        print(tt)"
   ]
  },
  {
   "cell_type": "markdown",
   "id": "98fef2ed-a8a8-4a3a-9683-a99074a1f29a",
   "metadata": {},
   "source": [
    "# Разделим наш датасет на train, test, valid"
   ]
  },
  {
   "cell_type": "code",
   "execution_count": 9,
   "id": "5aebd743-2c29-4341-b3b2-b514bff234e6",
   "metadata": {},
   "outputs": [],
   "source": [
    "from sklearn.model_selection import train_test_split\n",
    "train_df, temp_df = train_test_split(sample_data, test_size=0.4, stratify=sample_data[\"topic\"], random_state=RANDOM_STATE)\n",
    "val_df, test_df = train_test_split(temp_df, test_size=0.5, stratify=temp_df[\"topic\"], random_state=RANDOM_STATE)"
   ]
  },
  {
   "cell_type": "code",
   "execution_count": 10,
   "id": "b16bf87d-8e07-40d2-9dc1-e66dddc58bf5",
   "metadata": {},
   "outputs": [
    {
     "data": {
      "text/plain": [
       "((65910, 4), (21970, 4), (21970, 4))"
      ]
     },
     "execution_count": 10,
     "metadata": {},
     "output_type": "execute_result"
    }
   ],
   "source": [
    "train_df.shape,  test_df.shape , val_df.shape"
   ]
  },
  {
   "cell_type": "markdown",
   "id": "450dceba-dd32-4f7a-820e-3512b394dcff",
   "metadata": {},
   "source": [
    "# Обучим word2vec-эмбеддинги с помощью библиотеки gensim"
   ]
  },
  {
   "cell_type": "code",
   "execution_count": 11,
   "id": "4bec6a83-bf5b-4437-be1d-f9d29e8e8816",
   "metadata": {},
   "outputs": [],
   "source": [
    "import gensim.downloader as api\n",
    "import warnings\n",
    "warnings.simplefilter(action='ignore', category=FutureWarning)\n",
    "\n",
    "import gensim.models\n",
    "from gensim.models import Word2Vec"
   ]
  },
  {
   "cell_type": "code",
   "execution_count": 12,
   "id": "6ef29943-fec2-4abe-a2ad-47b8fd036ea2",
   "metadata": {
    "scrolled": true
   },
   "outputs": [],
   "source": [
    "tokenized_texts = [tt.split() for tt in train_df['text'].tolist()]"
   ]
  },
  {
   "cell_type": "code",
   "execution_count": 13,
   "id": "55e4b49e-e0e3-444a-9bda-9cf3dce23dad",
   "metadata": {},
   "outputs": [],
   "source": [
    "model = gensim.models.Word2Vec(\n",
    "    sentences=tokenized_texts,  # Обучение запускается здесь\n",
    "    vector_size=100,\n",
    "    window=5,\n",
    "    min_count=5,\n",
    "    sg=1,\n",
    "    negative=5,\n",
    "    epochs=10,  \n",
    "    seed=RANDOM_STATE,\n",
    ")"
   ]
  },
  {
   "cell_type": "markdown",
   "id": "bb689eed-2684-491f-a0ae-fd6fbfdf9b3e",
   "metadata": {},
   "source": [
    "Визуально оценим качество получившихся эмбедингов"
   ]
  },
  {
   "cell_type": "code",
   "execution_count": 14,
   "id": "8c84ad3e-6369-4447-8d6c-b2a054e196a2",
   "metadata": {},
   "outputs": [
    {
     "name": "stdout",
     "output_type": "stream",
     "text": [
      "комиссар\n",
      "[('культурный', 0.7291277050971985), ('наука', 0.7167322039604187), ('культурноисторический', 0.7088230848312378), ('виноделие', 0.6798076033592224), ('мироненко', 0.6734700798988342)]\n"
     ]
    }
   ],
   "source": [
    "# И проверим ее внутренее качество\n",
    "print(model.wv.doesnt_match([\"Вице-премьер\", \"президент\", \"комиссар\"]))\n",
    "print(model.wv.most_similar(\"культура\", topn=5))"
   ]
  },
  {
   "cell_type": "markdown",
   "id": "a44ec008-b42e-442a-8b27-f33ede5ea3b3",
   "metadata": {},
   "source": [
    "# Загрузим предобученные эмбеддинги из navec и rusvectores"
   ]
  },
  {
   "cell_type": "code",
   "execution_count": 15,
   "id": "0cb1e71d-305c-4e5b-8ab8-37f43a700791",
   "metadata": {},
   "outputs": [
    {
     "name": "stderr",
     "output_type": "stream",
     "text": [
      "\"wget\" ­Ґ пў«пҐвбп ў­гваҐ­­Ґ© Ё«Ё ў­Ґи­Ґ©\n",
      "Є®¬ ­¤®©, ЁбЇ®«­пҐ¬®© Їа®Ја ¬¬®© Ё«Ё Ї ЄҐв­л¬ д ©«®¬.\n"
     ]
    }
   ],
   "source": [
    "!wget https://storage.yandexcloud.net/natasha-navec/packs/navec_news_v1_1B_250K_300d_100q.tar"
   ]
  },
  {
   "cell_type": "code",
   "execution_count": 16,
   "id": "3d0cd04a-bc39-4ef8-aebb-aa4e0c2e6ce1",
   "metadata": {},
   "outputs": [],
   "source": [
    "from navec import Navec\n",
    "import numpy as np\n",
    "\n",
    "navec_model = Navec.load(\"navec_news_v1_1B_250K_300d_100q.tar\")\n",
    "\n",
    "def text_to_avg_navec(text, model):\n",
    "    vectors = [model.get(word) for word in text.split() if word in model]\n",
    "    return np.mean(vectors, axis=0) if len(vectors) > 0 else np.zeros(300) # 300 исходя из размерности эмбедингов которая указана в названии файла\n",
    "\n",
    "X_train_navec = np.array([text_to_avg_navec(text, navec_model) for text in train_df['text']])\n",
    "X_val_navec = np.array([text_to_avg_navec(text, navec_model) for text in val_df['text']])\n",
    "X_test_navec = np.array([text_to_avg_navec(text, navec_model) for text in test_df['text']])"
   ]
  },
  {
   "cell_type": "code",
   "execution_count": 17,
   "id": "56608d1f-7ebb-46a6-971c-6f0524edd13f",
   "metadata": {},
   "outputs": [
    {
     "data": {
      "text/plain": [
       "array([[-0.19668593, -0.07471703, -0.13901667, ..., -0.062306  ,\n",
       "         0.09618099,  0.00421107],\n",
       "       [ 0.00278849, -0.07244179,  0.07407308, ...,  0.02509489,\n",
       "         0.00299011, -0.10284942],\n",
       "       [-0.06943322, -0.05035128, -0.05246846, ..., -0.03841982,\n",
       "        -0.04100087, -0.08578858],\n",
       "       ...,\n",
       "       [-0.01949179, -0.29004455, -0.03907801, ..., -0.09301674,\n",
       "        -0.03565096, -0.10774067],\n",
       "       [ 0.07339207, -0.13412614,  0.00996305, ...,  0.01967051,\n",
       "         0.08979401, -0.04948989],\n",
       "       [ 0.06798457, -0.14860465, -0.02356817, ...,  0.06375785,\n",
       "         0.14657015, -0.04427757]])"
      ]
     },
     "execution_count": 17,
     "metadata": {},
     "output_type": "execute_result"
    }
   ],
   "source": [
    "X_train_navec"
   ]
  },
  {
   "cell_type": "code",
   "execution_count": 18,
   "id": "9f05d34f-b0cd-4e9a-8bd1-b1e22c18e80d",
   "metadata": {},
   "outputs": [],
   "source": [
    "from gensim.models import KeyedVectors\n",
    "# разархивированный bin файл модели \n",
    "model_path = \"model.bin\"\n",
    "\n",
    "rusvectores_model = KeyedVectors.load_word2vec_format(\n",
    "    model_path, \n",
    "    binary=True, \n",
    "    unicode_errors='ignore' \n",
    ")"
   ]
  },
  {
   "cell_type": "code",
   "execution_count": 19,
   "id": "7869d389-03b6-4f34-bb9a-41e28f8669bd",
   "metadata": {},
   "outputs": [],
   "source": [
    "def text_to_avg_rusvectores(text, model):\n",
    "    vectors = [model[word] for word in text.split() if word in model]\n",
    "    return np.mean(vectors, axis=0) if len(vectors) > 0 else np.zeros(model.vector_size)\n",
    "\n",
    "X_train_rv = np.array([text_to_avg_rusvectores(text, rusvectores_model) for text in train_df['text']])\n",
    "X_val_rv = np.array([text_to_avg_rusvectores(text, rusvectores_model) for text in val_df['text']])\n",
    "X_test_rv = np.array([text_to_avg_rusvectores(text, rusvectores_model) for text in test_df['text']])"
   ]
  },
  {
   "cell_type": "code",
   "execution_count": 20,
   "id": "d0fe7b23-76f7-4e57-8121-e269ea536329",
   "metadata": {},
   "outputs": [
    {
     "data": {
      "text/plain": [
       "[('президент_PROPN', 0.5634657144546509),\n",
       " ('россия::владимир::путин_PROPN', 0.4750259518623352),\n",
       " ('путин_PROPN', 0.45360875129699707),\n",
       " ('экс-президент_NOUN', 0.44043391942977905),\n",
       " ('президентский_ADJ', 0.4396216869354248),\n",
       " ('владимир::путин_PROPN', 0.43582114577293396),\n",
       " ('и.о.президент_NOUN', 0.43094614148139954),\n",
       " ('глава_NOUN', 0.42920252680778503),\n",
       " ('премьер-министр_NOUN', 0.42138782143592834),\n",
       " ('барак_PROPN', 0.42040306329727173)]"
      ]
     },
     "execution_count": 20,
     "metadata": {},
     "output_type": "execute_result"
    }
   ],
   "source": [
    "rusvectores_model.most_similar(positive=['президент_NOUN'], topn=10)"
   ]
  },
  {
   "cell_type": "markdown",
   "id": "6efc8ac7-2d92-4842-a087-a2ead40fa178",
   "metadata": {},
   "source": [
    "# Обучим sklearn.linear_model.LogisticRegression с тремя вариантами векторизации текстов и сравните их качество между собой на валидационной выборке"
   ]
  },
  {
   "cell_type": "code",
   "execution_count": 21,
   "id": "6c2fb842-6a55-4dc4-ad63-92757a9f7831",
   "metadata": {},
   "outputs": [],
   "source": [
    "from sklearn.dummy import DummyClassifier\n",
    "from sklearn.linear_model import LogisticRegression\n",
    "from sklearn.metrics import classification_report\n",
    "import numpy as np"
   ]
  },
  {
   "cell_type": "code",
   "execution_count": 22,
   "id": "427a148d-89cc-49f6-ba17-52a8c3450eb8",
   "metadata": {},
   "outputs": [],
   "source": [
    "def text_to_vector(text, model):\n",
    "    words = text.split()\n",
    "    word_vectors = [model.wv[word] for word in words if word in model.wv]\n",
    "    if len(word_vectors) == 0:\n",
    "        return np.zeros(model.vector_size)\n",
    "    return np.mean(word_vectors, axis=0)"
   ]
  },
  {
   "cell_type": "code",
   "execution_count": 24,
   "id": "774781e9-bcec-4961-abaf-fa720be686c6",
   "metadata": {},
   "outputs": [],
   "source": [
    "X_train_W2V = np.array([text_to_vector(text, model) for text in train_df['text']])\n",
    "X_val_W2V = np.array([text_to_vector(text, model) for text in val_df['text']])\n",
    "X_test_W2V = np.array([text_to_vector(text, model) for text in test_df['text']])"
   ]
  },
  {
   "cell_type": "markdown",
   "id": "fe395d31-9898-4c77-a369-867887dc559a",
   "metadata": {},
   "source": [
    "### Посмотрим качество на валидационной выборке для 3х моделей"
   ]
  },
  {
   "cell_type": "markdown",
   "id": "04946c5e-ab0a-4183-9b5c-293492814c18",
   "metadata": {},
   "source": [
    "результаты W2V: "
   ]
  },
  {
   "cell_type": "code",
   "execution_count": 25,
   "id": "078037da-8828-47f8-b1d5-33acdd01f027",
   "metadata": {},
   "outputs": [
    {
     "name": "stderr",
     "output_type": "stream",
     "text": [
      "C:\\Users\\lsd24\\AppData\\Local\\Programs\\Python\\Python311\\Lib\\site-packages\\sklearn\\linear_model\\_logistic.py:469: ConvergenceWarning: lbfgs failed to converge (status=1):\n",
      "STOP: TOTAL NO. of ITERATIONS REACHED LIMIT.\n",
      "\n",
      "Increase the number of iterations (max_iter) or scale the data as shown in:\n",
      "    https://scikit-learn.org/stable/modules/preprocessing.html\n",
      "Please also refer to the documentation for alternative solver options:\n",
      "    https://scikit-learn.org/stable/modules/linear_model.html#logistic-regression\n",
      "  n_iter_i = _check_optimize_result(\n",
      "C:\\Users\\lsd24\\AppData\\Local\\Programs\\Python\\Python311\\Lib\\site-packages\\sklearn\\metrics\\_classification.py:1531: UndefinedMetricWarning: Precision is ill-defined and being set to 0.0 in labels with no predicted samples. Use `zero_division` parameter to control this behavior.\n",
      "  _warn_prf(average, modifier, f\"{metric.capitalize()} is\", len(result))\n"
     ]
    },
    {
     "name": "stdout",
     "output_type": "stream",
     "text": [
      "                   precision    recall  f1-score   support\n",
      "\n",
      "   69-я параллель       0.67      0.05      0.10        38\n",
      "           Бизнес       0.46      0.10      0.17       216\n",
      "      Бывший СССР       0.78      0.72      0.75      1557\n",
      "              Дом       0.81      0.69      0.75       646\n",
      "         Из жизни       0.62      0.54      0.58       827\n",
      "   Интернет и СМИ       0.72      0.64      0.68      1327\n",
      "             Крым       0.00      0.00      0.00        20\n",
      "    Культпросвет        0.00      0.00      0.00        10\n",
      "         Культура       0.84      0.86      0.85      1605\n",
      "              Мир       0.76      0.83      0.80      4079\n",
      "  Наука и техника       0.82      0.80      0.81      1579\n",
      "      Путешествия       0.69      0.48      0.56       192\n",
      "           Россия       0.72      0.81      0.76      4765\n",
      "Силовые структуры       0.46      0.18      0.26       584\n",
      "            Спорт       0.96      0.96      0.96      1927\n",
      "         Ценности       0.83      0.73      0.78       233\n",
      "        Экономика       0.79      0.85      0.82      2365\n",
      "\n",
      "         accuracy                           0.77     21970\n",
      "        macro avg       0.64      0.54      0.57     21970\n",
      "     weighted avg       0.77      0.77      0.77     21970\n",
      "\n"
     ]
    },
    {
     "name": "stderr",
     "output_type": "stream",
     "text": [
      "C:\\Users\\lsd24\\AppData\\Local\\Programs\\Python\\Python311\\Lib\\site-packages\\sklearn\\metrics\\_classification.py:1531: UndefinedMetricWarning: Precision is ill-defined and being set to 0.0 in labels with no predicted samples. Use `zero_division` parameter to control this behavior.\n",
      "  _warn_prf(average, modifier, f\"{metric.capitalize()} is\", len(result))\n",
      "C:\\Users\\lsd24\\AppData\\Local\\Programs\\Python\\Python311\\Lib\\site-packages\\sklearn\\metrics\\_classification.py:1531: UndefinedMetricWarning: Precision is ill-defined and being set to 0.0 in labels with no predicted samples. Use `zero_division` parameter to control this behavior.\n",
      "  _warn_prf(average, modifier, f\"{metric.capitalize()} is\", len(result))\n"
     ]
    }
   ],
   "source": [
    "logreg = LogisticRegression().fit(X_train_W2V, train_df['topic'])\n",
    "preds = logreg.predict(X_val_W2V)\n",
    "print(classification_report(val_df['topic'], preds))"
   ]
  },
  {
   "cell_type": "markdown",
   "id": "eef74184-e020-4407-824c-354bba82ff68",
   "metadata": {},
   "source": [
    "результаты NAVEC: "
   ]
  },
  {
   "cell_type": "code",
   "execution_count": 26,
   "id": "3faa5e55-f7de-4906-8f36-965a23c9ee37",
   "metadata": {},
   "outputs": [
    {
     "name": "stderr",
     "output_type": "stream",
     "text": [
      "C:\\Users\\lsd24\\AppData\\Local\\Programs\\Python\\Python311\\Lib\\site-packages\\sklearn\\linear_model\\_logistic.py:469: ConvergenceWarning: lbfgs failed to converge (status=1):\n",
      "STOP: TOTAL NO. of ITERATIONS REACHED LIMIT.\n",
      "\n",
      "Increase the number of iterations (max_iter) or scale the data as shown in:\n",
      "    https://scikit-learn.org/stable/modules/preprocessing.html\n",
      "Please also refer to the documentation for alternative solver options:\n",
      "    https://scikit-learn.org/stable/modules/linear_model.html#logistic-regression\n",
      "  n_iter_i = _check_optimize_result(\n",
      "C:\\Users\\lsd24\\AppData\\Local\\Programs\\Python\\Python311\\Lib\\site-packages\\sklearn\\metrics\\_classification.py:1531: UndefinedMetricWarning: Precision is ill-defined and being set to 0.0 in labels with no predicted samples. Use `zero_division` parameter to control this behavior.\n",
      "  _warn_prf(average, modifier, f\"{metric.capitalize()} is\", len(result))\n"
     ]
    },
    {
     "name": "stdout",
     "output_type": "stream",
     "text": [
      "                   precision    recall  f1-score   support\n",
      "\n",
      "   69-я параллель       0.54      0.18      0.27        38\n",
      "           Бизнес       0.49      0.13      0.21       216\n",
      "      Бывший СССР       0.78      0.75      0.76      1557\n",
      "              Дом       0.83      0.72      0.77       646\n",
      "         Из жизни       0.59      0.54      0.56       827\n",
      "   Интернет и СМИ       0.73      0.66      0.69      1327\n",
      "             Крым       1.00      0.05      0.10        20\n",
      "    Культпросвет        0.00      0.00      0.00        10\n",
      "         Культура       0.83      0.87      0.85      1605\n",
      "              Мир       0.77      0.82      0.79      4079\n",
      "  Наука и техника       0.81      0.80      0.81      1579\n",
      "      Путешествия       0.65      0.46      0.54       192\n",
      "           Россия       0.73      0.81      0.77      4765\n",
      "Силовые структуры       0.47      0.21      0.29       584\n",
      "            Спорт       0.96      0.97      0.96      1927\n",
      "         Ценности       0.81      0.73      0.77       233\n",
      "        Экономика       0.79      0.85      0.82      2365\n",
      "\n",
      "         accuracy                           0.78     21970\n",
      "        macro avg       0.69      0.56      0.59     21970\n",
      "     weighted avg       0.77      0.78      0.77     21970\n",
      "\n"
     ]
    },
    {
     "name": "stderr",
     "output_type": "stream",
     "text": [
      "C:\\Users\\lsd24\\AppData\\Local\\Programs\\Python\\Python311\\Lib\\site-packages\\sklearn\\metrics\\_classification.py:1531: UndefinedMetricWarning: Precision is ill-defined and being set to 0.0 in labels with no predicted samples. Use `zero_division` parameter to control this behavior.\n",
      "  _warn_prf(average, modifier, f\"{metric.capitalize()} is\", len(result))\n",
      "C:\\Users\\lsd24\\AppData\\Local\\Programs\\Python\\Python311\\Lib\\site-packages\\sklearn\\metrics\\_classification.py:1531: UndefinedMetricWarning: Precision is ill-defined and being set to 0.0 in labels with no predicted samples. Use `zero_division` parameter to control this behavior.\n",
      "  _warn_prf(average, modifier, f\"{metric.capitalize()} is\", len(result))\n"
     ]
    }
   ],
   "source": [
    "logregNavec = LogisticRegression().fit(X_train_navec, train_df['topic'])\n",
    "preds = logregNavec.predict(X_val_navec)\n",
    "print(classification_report(val_df['topic'], preds))"
   ]
  },
  {
   "cell_type": "markdown",
   "id": "832fc332-7039-4297-9532-076e4bff2ff6",
   "metadata": {},
   "source": [
    "результаты rusvectors: "
   ]
  },
  {
   "cell_type": "code",
   "execution_count": 27,
   "id": "d8759187-4158-48d3-a572-72237daf41d8",
   "metadata": {},
   "outputs": [
    {
     "name": "stderr",
     "output_type": "stream",
     "text": [
      "C:\\Users\\lsd24\\AppData\\Local\\Programs\\Python\\Python311\\Lib\\site-packages\\sklearn\\metrics\\_classification.py:1531: UndefinedMetricWarning: Precision is ill-defined and being set to 0.0 in labels with no predicted samples. Use `zero_division` parameter to control this behavior.\n",
      "  _warn_prf(average, modifier, f\"{metric.capitalize()} is\", len(result))\n",
      "C:\\Users\\lsd24\\AppData\\Local\\Programs\\Python\\Python311\\Lib\\site-packages\\sklearn\\metrics\\_classification.py:1531: UndefinedMetricWarning: Precision is ill-defined and being set to 0.0 in labels with no predicted samples. Use `zero_division` parameter to control this behavior.\n",
      "  _warn_prf(average, modifier, f\"{metric.capitalize()} is\", len(result))\n"
     ]
    },
    {
     "name": "stdout",
     "output_type": "stream",
     "text": [
      "                   precision    recall  f1-score   support\n",
      "\n",
      "   69-я параллель       0.00      0.00      0.00        38\n",
      "           Бизнес       0.00      0.00      0.00       216\n",
      "      Бывший СССР       0.00      0.00      0.00      1557\n",
      "              Дом       0.00      0.00      0.00       646\n",
      "         Из жизни       0.00      0.00      0.00       827\n",
      "   Интернет и СМИ       0.00      0.00      0.00      1327\n",
      "             Крым       0.00      0.00      0.00        20\n",
      "    Культпросвет        0.00      0.00      0.00        10\n",
      "         Культура       0.00      0.00      0.00      1605\n",
      "              Мир       0.00      0.00      0.00      4079\n",
      "  Наука и техника       0.00      0.00      0.00      1579\n",
      "      Путешествия       0.00      0.00      0.00       192\n",
      "           Россия       0.22      1.00      0.36      4765\n",
      "Силовые структуры       0.00      0.00      0.00       584\n",
      "            Спорт       0.00      0.00      0.00      1927\n",
      "         Ценности       0.00      0.00      0.00       233\n",
      "        Экономика       0.00      0.00      0.00      2365\n",
      "\n",
      "         accuracy                           0.22     21970\n",
      "        macro avg       0.01      0.06      0.02     21970\n",
      "     weighted avg       0.05      0.22      0.08     21970\n",
      "\n"
     ]
    },
    {
     "name": "stderr",
     "output_type": "stream",
     "text": [
      "C:\\Users\\lsd24\\AppData\\Local\\Programs\\Python\\Python311\\Lib\\site-packages\\sklearn\\metrics\\_classification.py:1531: UndefinedMetricWarning: Precision is ill-defined and being set to 0.0 in labels with no predicted samples. Use `zero_division` parameter to control this behavior.\n",
      "  _warn_prf(average, modifier, f\"{metric.capitalize()} is\", len(result))\n"
     ]
    }
   ],
   "source": [
    "logregRus = LogisticRegression().fit(X_train_rv, train_df['topic'])\n",
    "preds = logregRus.predict(X_val_rv)\n",
    "print(classification_report(val_df['topic'], preds))"
   ]
  },
  {
   "cell_type": "markdown",
   "id": "d95fe8ce-35f1-49ab-ba63-df61e8f0994e",
   "metadata": {},
   "source": [
    "# Попробуем улучшить качество модели, взяв для ее обучения W2V набор эмбеддингов и используя его с взвешиванием через tf-idf"
   ]
  },
  {
   "cell_type": "code",
   "execution_count": 28,
   "id": "f79b78db-84bd-469e-aa62-fd5514c937f9",
   "metadata": {},
   "outputs": [],
   "source": [
    "from joblib import Parallel, delayed\n",
    "from sklearn.feature_extraction.text import TfidfVectorizer\n",
    "from collections import defaultdict"
   ]
  },
  {
   "cell_type": "code",
   "execution_count": 29,
   "id": "ee07a865-f102-418a-9ef4-88d1ced07c1a",
   "metadata": {},
   "outputs": [],
   "source": [
    "def text_to_vector_tfidf(text, model, idf_dict):\n",
    "    words = text.split()\n",
    "    known_words = [word for word in words if word in model.wv]\n",
    "    \n",
    "    if not known_words:\n",
    "        return np.zeros(model.vector_size)\n",
    "    \n",
    "    word_vectors = []\n",
    "    for word in known_words:\n",
    "        try:\n",
    "            word_vectors.append(model.wv[word] * idf_dict[word])\n",
    "        except KeyError: \n",
    "            continue\n",
    "    \n",
    "    if len(word_vectors) == 0:\n",
    "        return np.zeros(model.vector_size)\n",
    "\n",
    "    return np.mean(word_vectors, axis=0)"
   ]
  },
  {
   "cell_type": "markdown",
   "id": "e963df29-f5c2-45aa-8ef2-d15524394d64",
   "metadata": {},
   "source": [
    "Для обработки по батчам"
   ]
  },
  {
   "cell_type": "code",
   "execution_count": 30,
   "id": "60c2915a-3df7-4237-9608-ed326ad43a5a",
   "metadata": {},
   "outputs": [],
   "source": [
    "def process_batch(batch, model, idf_dict):\n",
    "    return np.array([text_to_vector_tfidf(text, model, idf_dict) for text in batch])"
   ]
  },
  {
   "cell_type": "code",
   "execution_count": 31,
   "id": "5cf5126a-d1c8-445c-9e5d-2ad071660a7c",
   "metadata": {},
   "outputs": [],
   "source": [
    "def vectorize_texts_in_batches(texts, model, idf_dict, batch_size=1000, n_jobs=2):\n",
    "    batches = [texts[i:i+batch_size] for i in range(0, len(texts), batch_size)]\n",
    "    \n",
    "    results = []\n",
    "    with tqdm(total=len(batches), desc=\"Vectorizing texts\", unit=\"batch\") as pbar:\n",
    "        for batch_result in Parallel(n_jobs=n_jobs)(\n",
    "            delayed(process_batch)(batch, model, idf_dict) for batch in batches\n",
    "        ):\n",
    "            results.append(batch_result)\n",
    "            pbar.update(1) \n",
    "\n",
    "    return np.vstack(results)"
   ]
  },
  {
   "cell_type": "markdown",
   "id": "5e0fbd22-fba3-4859-92d6-b4c14eafff77",
   "metadata": {},
   "source": [
    "Обучим tf-idf:"
   ]
  },
  {
   "cell_type": "code",
   "execution_count": 32,
   "id": "bb1b0032-8830-49dc-ae41-f09d440e6517",
   "metadata": {},
   "outputs": [
    {
     "data": {
      "text/html": [
       "<style>#sk-container-id-1 {\n",
       "  /* Definition of color scheme common for light and dark mode */\n",
       "  --sklearn-color-text: black;\n",
       "  --sklearn-color-line: gray;\n",
       "  /* Definition of color scheme for unfitted estimators */\n",
       "  --sklearn-color-unfitted-level-0: #fff5e6;\n",
       "  --sklearn-color-unfitted-level-1: #f6e4d2;\n",
       "  --sklearn-color-unfitted-level-2: #ffe0b3;\n",
       "  --sklearn-color-unfitted-level-3: chocolate;\n",
       "  /* Definition of color scheme for fitted estimators */\n",
       "  --sklearn-color-fitted-level-0: #f0f8ff;\n",
       "  --sklearn-color-fitted-level-1: #d4ebff;\n",
       "  --sklearn-color-fitted-level-2: #b3dbfd;\n",
       "  --sklearn-color-fitted-level-3: cornflowerblue;\n",
       "\n",
       "  /* Specific color for light theme */\n",
       "  --sklearn-color-text-on-default-background: var(--sg-text-color, var(--theme-code-foreground, var(--jp-content-font-color1, black)));\n",
       "  --sklearn-color-background: var(--sg-background-color, var(--theme-background, var(--jp-layout-color0, white)));\n",
       "  --sklearn-color-border-box: var(--sg-text-color, var(--theme-code-foreground, var(--jp-content-font-color1, black)));\n",
       "  --sklearn-color-icon: #696969;\n",
       "\n",
       "  @media (prefers-color-scheme: dark) {\n",
       "    /* Redefinition of color scheme for dark theme */\n",
       "    --sklearn-color-text-on-default-background: var(--sg-text-color, var(--theme-code-foreground, var(--jp-content-font-color1, white)));\n",
       "    --sklearn-color-background: var(--sg-background-color, var(--theme-background, var(--jp-layout-color0, #111)));\n",
       "    --sklearn-color-border-box: var(--sg-text-color, var(--theme-code-foreground, var(--jp-content-font-color1, white)));\n",
       "    --sklearn-color-icon: #878787;\n",
       "  }\n",
       "}\n",
       "\n",
       "#sk-container-id-1 {\n",
       "  color: var(--sklearn-color-text);\n",
       "}\n",
       "\n",
       "#sk-container-id-1 pre {\n",
       "  padding: 0;\n",
       "}\n",
       "\n",
       "#sk-container-id-1 input.sk-hidden--visually {\n",
       "  border: 0;\n",
       "  clip: rect(1px 1px 1px 1px);\n",
       "  clip: rect(1px, 1px, 1px, 1px);\n",
       "  height: 1px;\n",
       "  margin: -1px;\n",
       "  overflow: hidden;\n",
       "  padding: 0;\n",
       "  position: absolute;\n",
       "  width: 1px;\n",
       "}\n",
       "\n",
       "#sk-container-id-1 div.sk-dashed-wrapped {\n",
       "  border: 1px dashed var(--sklearn-color-line);\n",
       "  margin: 0 0.4em 0.5em 0.4em;\n",
       "  box-sizing: border-box;\n",
       "  padding-bottom: 0.4em;\n",
       "  background-color: var(--sklearn-color-background);\n",
       "}\n",
       "\n",
       "#sk-container-id-1 div.sk-container {\n",
       "  /* jupyter's `normalize.less` sets `[hidden] { display: none; }`\n",
       "     but bootstrap.min.css set `[hidden] { display: none !important; }`\n",
       "     so we also need the `!important` here to be able to override the\n",
       "     default hidden behavior on the sphinx rendered scikit-learn.org.\n",
       "     See: https://github.com/scikit-learn/scikit-learn/issues/21755 */\n",
       "  display: inline-block !important;\n",
       "  position: relative;\n",
       "}\n",
       "\n",
       "#sk-container-id-1 div.sk-text-repr-fallback {\n",
       "  display: none;\n",
       "}\n",
       "\n",
       "div.sk-parallel-item,\n",
       "div.sk-serial,\n",
       "div.sk-item {\n",
       "  /* draw centered vertical line to link estimators */\n",
       "  background-image: linear-gradient(var(--sklearn-color-text-on-default-background), var(--sklearn-color-text-on-default-background));\n",
       "  background-size: 2px 100%;\n",
       "  background-repeat: no-repeat;\n",
       "  background-position: center center;\n",
       "}\n",
       "\n",
       "/* Parallel-specific style estimator block */\n",
       "\n",
       "#sk-container-id-1 div.sk-parallel-item::after {\n",
       "  content: \"\";\n",
       "  width: 100%;\n",
       "  border-bottom: 2px solid var(--sklearn-color-text-on-default-background);\n",
       "  flex-grow: 1;\n",
       "}\n",
       "\n",
       "#sk-container-id-1 div.sk-parallel {\n",
       "  display: flex;\n",
       "  align-items: stretch;\n",
       "  justify-content: center;\n",
       "  background-color: var(--sklearn-color-background);\n",
       "  position: relative;\n",
       "}\n",
       "\n",
       "#sk-container-id-1 div.sk-parallel-item {\n",
       "  display: flex;\n",
       "  flex-direction: column;\n",
       "}\n",
       "\n",
       "#sk-container-id-1 div.sk-parallel-item:first-child::after {\n",
       "  align-self: flex-end;\n",
       "  width: 50%;\n",
       "}\n",
       "\n",
       "#sk-container-id-1 div.sk-parallel-item:last-child::after {\n",
       "  align-self: flex-start;\n",
       "  width: 50%;\n",
       "}\n",
       "\n",
       "#sk-container-id-1 div.sk-parallel-item:only-child::after {\n",
       "  width: 0;\n",
       "}\n",
       "\n",
       "/* Serial-specific style estimator block */\n",
       "\n",
       "#sk-container-id-1 div.sk-serial {\n",
       "  display: flex;\n",
       "  flex-direction: column;\n",
       "  align-items: center;\n",
       "  background-color: var(--sklearn-color-background);\n",
       "  padding-right: 1em;\n",
       "  padding-left: 1em;\n",
       "}\n",
       "\n",
       "\n",
       "/* Toggleable style: style used for estimator/Pipeline/ColumnTransformer box that is\n",
       "clickable and can be expanded/collapsed.\n",
       "- Pipeline and ColumnTransformer use this feature and define the default style\n",
       "- Estimators will overwrite some part of the style using the `sk-estimator` class\n",
       "*/\n",
       "\n",
       "/* Pipeline and ColumnTransformer style (default) */\n",
       "\n",
       "#sk-container-id-1 div.sk-toggleable {\n",
       "  /* Default theme specific background. It is overwritten whether we have a\n",
       "  specific estimator or a Pipeline/ColumnTransformer */\n",
       "  background-color: var(--sklearn-color-background);\n",
       "}\n",
       "\n",
       "/* Toggleable label */\n",
       "#sk-container-id-1 label.sk-toggleable__label {\n",
       "  cursor: pointer;\n",
       "  display: block;\n",
       "  width: 100%;\n",
       "  margin-bottom: 0;\n",
       "  padding: 0.5em;\n",
       "  box-sizing: border-box;\n",
       "  text-align: center;\n",
       "}\n",
       "\n",
       "#sk-container-id-1 label.sk-toggleable__label-arrow:before {\n",
       "  /* Arrow on the left of the label */\n",
       "  content: \"▸\";\n",
       "  float: left;\n",
       "  margin-right: 0.25em;\n",
       "  color: var(--sklearn-color-icon);\n",
       "}\n",
       "\n",
       "#sk-container-id-1 label.sk-toggleable__label-arrow:hover:before {\n",
       "  color: var(--sklearn-color-text);\n",
       "}\n",
       "\n",
       "/* Toggleable content - dropdown */\n",
       "\n",
       "#sk-container-id-1 div.sk-toggleable__content {\n",
       "  max-height: 0;\n",
       "  max-width: 0;\n",
       "  overflow: hidden;\n",
       "  text-align: left;\n",
       "  /* unfitted */\n",
       "  background-color: var(--sklearn-color-unfitted-level-0);\n",
       "}\n",
       "\n",
       "#sk-container-id-1 div.sk-toggleable__content.fitted {\n",
       "  /* fitted */\n",
       "  background-color: var(--sklearn-color-fitted-level-0);\n",
       "}\n",
       "\n",
       "#sk-container-id-1 div.sk-toggleable__content pre {\n",
       "  margin: 0.2em;\n",
       "  border-radius: 0.25em;\n",
       "  color: var(--sklearn-color-text);\n",
       "  /* unfitted */\n",
       "  background-color: var(--sklearn-color-unfitted-level-0);\n",
       "}\n",
       "\n",
       "#sk-container-id-1 div.sk-toggleable__content.fitted pre {\n",
       "  /* unfitted */\n",
       "  background-color: var(--sklearn-color-fitted-level-0);\n",
       "}\n",
       "\n",
       "#sk-container-id-1 input.sk-toggleable__control:checked~div.sk-toggleable__content {\n",
       "  /* Expand drop-down */\n",
       "  max-height: 200px;\n",
       "  max-width: 100%;\n",
       "  overflow: auto;\n",
       "}\n",
       "\n",
       "#sk-container-id-1 input.sk-toggleable__control:checked~label.sk-toggleable__label-arrow:before {\n",
       "  content: \"▾\";\n",
       "}\n",
       "\n",
       "/* Pipeline/ColumnTransformer-specific style */\n",
       "\n",
       "#sk-container-id-1 div.sk-label input.sk-toggleable__control:checked~label.sk-toggleable__label {\n",
       "  color: var(--sklearn-color-text);\n",
       "  background-color: var(--sklearn-color-unfitted-level-2);\n",
       "}\n",
       "\n",
       "#sk-container-id-1 div.sk-label.fitted input.sk-toggleable__control:checked~label.sk-toggleable__label {\n",
       "  background-color: var(--sklearn-color-fitted-level-2);\n",
       "}\n",
       "\n",
       "/* Estimator-specific style */\n",
       "\n",
       "/* Colorize estimator box */\n",
       "#sk-container-id-1 div.sk-estimator input.sk-toggleable__control:checked~label.sk-toggleable__label {\n",
       "  /* unfitted */\n",
       "  background-color: var(--sklearn-color-unfitted-level-2);\n",
       "}\n",
       "\n",
       "#sk-container-id-1 div.sk-estimator.fitted input.sk-toggleable__control:checked~label.sk-toggleable__label {\n",
       "  /* fitted */\n",
       "  background-color: var(--sklearn-color-fitted-level-2);\n",
       "}\n",
       "\n",
       "#sk-container-id-1 div.sk-label label.sk-toggleable__label,\n",
       "#sk-container-id-1 div.sk-label label {\n",
       "  /* The background is the default theme color */\n",
       "  color: var(--sklearn-color-text-on-default-background);\n",
       "}\n",
       "\n",
       "/* On hover, darken the color of the background */\n",
       "#sk-container-id-1 div.sk-label:hover label.sk-toggleable__label {\n",
       "  color: var(--sklearn-color-text);\n",
       "  background-color: var(--sklearn-color-unfitted-level-2);\n",
       "}\n",
       "\n",
       "/* Label box, darken color on hover, fitted */\n",
       "#sk-container-id-1 div.sk-label.fitted:hover label.sk-toggleable__label.fitted {\n",
       "  color: var(--sklearn-color-text);\n",
       "  background-color: var(--sklearn-color-fitted-level-2);\n",
       "}\n",
       "\n",
       "/* Estimator label */\n",
       "\n",
       "#sk-container-id-1 div.sk-label label {\n",
       "  font-family: monospace;\n",
       "  font-weight: bold;\n",
       "  display: inline-block;\n",
       "  line-height: 1.2em;\n",
       "}\n",
       "\n",
       "#sk-container-id-1 div.sk-label-container {\n",
       "  text-align: center;\n",
       "}\n",
       "\n",
       "/* Estimator-specific */\n",
       "#sk-container-id-1 div.sk-estimator {\n",
       "  font-family: monospace;\n",
       "  border: 1px dotted var(--sklearn-color-border-box);\n",
       "  border-radius: 0.25em;\n",
       "  box-sizing: border-box;\n",
       "  margin-bottom: 0.5em;\n",
       "  /* unfitted */\n",
       "  background-color: var(--sklearn-color-unfitted-level-0);\n",
       "}\n",
       "\n",
       "#sk-container-id-1 div.sk-estimator.fitted {\n",
       "  /* fitted */\n",
       "  background-color: var(--sklearn-color-fitted-level-0);\n",
       "}\n",
       "\n",
       "/* on hover */\n",
       "#sk-container-id-1 div.sk-estimator:hover {\n",
       "  /* unfitted */\n",
       "  background-color: var(--sklearn-color-unfitted-level-2);\n",
       "}\n",
       "\n",
       "#sk-container-id-1 div.sk-estimator.fitted:hover {\n",
       "  /* fitted */\n",
       "  background-color: var(--sklearn-color-fitted-level-2);\n",
       "}\n",
       "\n",
       "/* Specification for estimator info (e.g. \"i\" and \"?\") */\n",
       "\n",
       "/* Common style for \"i\" and \"?\" */\n",
       "\n",
       ".sk-estimator-doc-link,\n",
       "a:link.sk-estimator-doc-link,\n",
       "a:visited.sk-estimator-doc-link {\n",
       "  float: right;\n",
       "  font-size: smaller;\n",
       "  line-height: 1em;\n",
       "  font-family: monospace;\n",
       "  background-color: var(--sklearn-color-background);\n",
       "  border-radius: 1em;\n",
       "  height: 1em;\n",
       "  width: 1em;\n",
       "  text-decoration: none !important;\n",
       "  margin-left: 1ex;\n",
       "  /* unfitted */\n",
       "  border: var(--sklearn-color-unfitted-level-1) 1pt solid;\n",
       "  color: var(--sklearn-color-unfitted-level-1);\n",
       "}\n",
       "\n",
       ".sk-estimator-doc-link.fitted,\n",
       "a:link.sk-estimator-doc-link.fitted,\n",
       "a:visited.sk-estimator-doc-link.fitted {\n",
       "  /* fitted */\n",
       "  border: var(--sklearn-color-fitted-level-1) 1pt solid;\n",
       "  color: var(--sklearn-color-fitted-level-1);\n",
       "}\n",
       "\n",
       "/* On hover */\n",
       "div.sk-estimator:hover .sk-estimator-doc-link:hover,\n",
       ".sk-estimator-doc-link:hover,\n",
       "div.sk-label-container:hover .sk-estimator-doc-link:hover,\n",
       ".sk-estimator-doc-link:hover {\n",
       "  /* unfitted */\n",
       "  background-color: var(--sklearn-color-unfitted-level-3);\n",
       "  color: var(--sklearn-color-background);\n",
       "  text-decoration: none;\n",
       "}\n",
       "\n",
       "div.sk-estimator.fitted:hover .sk-estimator-doc-link.fitted:hover,\n",
       ".sk-estimator-doc-link.fitted:hover,\n",
       "div.sk-label-container:hover .sk-estimator-doc-link.fitted:hover,\n",
       ".sk-estimator-doc-link.fitted:hover {\n",
       "  /* fitted */\n",
       "  background-color: var(--sklearn-color-fitted-level-3);\n",
       "  color: var(--sklearn-color-background);\n",
       "  text-decoration: none;\n",
       "}\n",
       "\n",
       "/* Span, style for the box shown on hovering the info icon */\n",
       ".sk-estimator-doc-link span {\n",
       "  display: none;\n",
       "  z-index: 9999;\n",
       "  position: relative;\n",
       "  font-weight: normal;\n",
       "  right: .2ex;\n",
       "  padding: .5ex;\n",
       "  margin: .5ex;\n",
       "  width: min-content;\n",
       "  min-width: 20ex;\n",
       "  max-width: 50ex;\n",
       "  color: var(--sklearn-color-text);\n",
       "  box-shadow: 2pt 2pt 4pt #999;\n",
       "  /* unfitted */\n",
       "  background: var(--sklearn-color-unfitted-level-0);\n",
       "  border: .5pt solid var(--sklearn-color-unfitted-level-3);\n",
       "}\n",
       "\n",
       ".sk-estimator-doc-link.fitted span {\n",
       "  /* fitted */\n",
       "  background: var(--sklearn-color-fitted-level-0);\n",
       "  border: var(--sklearn-color-fitted-level-3);\n",
       "}\n",
       "\n",
       ".sk-estimator-doc-link:hover span {\n",
       "  display: block;\n",
       "}\n",
       "\n",
       "/* \"?\"-specific style due to the `<a>` HTML tag */\n",
       "\n",
       "#sk-container-id-1 a.estimator_doc_link {\n",
       "  float: right;\n",
       "  font-size: 1rem;\n",
       "  line-height: 1em;\n",
       "  font-family: monospace;\n",
       "  background-color: var(--sklearn-color-background);\n",
       "  border-radius: 1rem;\n",
       "  height: 1rem;\n",
       "  width: 1rem;\n",
       "  text-decoration: none;\n",
       "  /* unfitted */\n",
       "  color: var(--sklearn-color-unfitted-level-1);\n",
       "  border: var(--sklearn-color-unfitted-level-1) 1pt solid;\n",
       "}\n",
       "\n",
       "#sk-container-id-1 a.estimator_doc_link.fitted {\n",
       "  /* fitted */\n",
       "  border: var(--sklearn-color-fitted-level-1) 1pt solid;\n",
       "  color: var(--sklearn-color-fitted-level-1);\n",
       "}\n",
       "\n",
       "/* On hover */\n",
       "#sk-container-id-1 a.estimator_doc_link:hover {\n",
       "  /* unfitted */\n",
       "  background-color: var(--sklearn-color-unfitted-level-3);\n",
       "  color: var(--sklearn-color-background);\n",
       "  text-decoration: none;\n",
       "}\n",
       "\n",
       "#sk-container-id-1 a.estimator_doc_link.fitted:hover {\n",
       "  /* fitted */\n",
       "  background-color: var(--sklearn-color-fitted-level-3);\n",
       "}\n",
       "</style><div id=\"sk-container-id-1\" class=\"sk-top-container\"><div class=\"sk-text-repr-fallback\"><pre>TfidfVectorizer()</pre><b>In a Jupyter environment, please rerun this cell to show the HTML representation or trust the notebook. <br />On GitHub, the HTML representation is unable to render, please try loading this page with nbviewer.org.</b></div><div class=\"sk-container\" hidden><div class=\"sk-item\"><div class=\"sk-estimator fitted sk-toggleable\"><input class=\"sk-toggleable__control sk-hidden--visually\" id=\"sk-estimator-id-1\" type=\"checkbox\" checked><label for=\"sk-estimator-id-1\" class=\"sk-toggleable__label fitted sk-toggleable__label-arrow fitted\">&nbsp;&nbsp;TfidfVectorizer<a class=\"sk-estimator-doc-link fitted\" rel=\"noreferrer\" target=\"_blank\" href=\"https://scikit-learn.org/1.5/modules/generated/sklearn.feature_extraction.text.TfidfVectorizer.html\">?<span>Documentation for TfidfVectorizer</span></a><span class=\"sk-estimator-doc-link fitted\">i<span>Fitted</span></span></label><div class=\"sk-toggleable__content fitted\"><pre>TfidfVectorizer()</pre></div> </div></div></div></div>"
      ],
      "text/plain": [
       "TfidfVectorizer()"
      ]
     },
     "execution_count": 32,
     "metadata": {},
     "output_type": "execute_result"
    }
   ],
   "source": [
    "vectorizer = TfidfVectorizer()\n",
    "vectorizer.fit(train_df['text'])  "
   ]
  },
  {
   "cell_type": "markdown",
   "id": "2443bac0-1bf9-4005-9a9a-80e28707a7c9",
   "metadata": {},
   "source": [
    "Теперь с коэфициентами TF-IDF"
   ]
  },
  {
   "cell_type": "code",
   "execution_count": 33,
   "id": "753a2199-a198-4381-886b-ddfddc4fa81a",
   "metadata": {},
   "outputs": [],
   "source": [
    "feature_names = vectorizer.get_feature_names_out() \n",
    "idf_dict = dict(zip(feature_names, vectorizer.idf_))"
   ]
  },
  {
   "cell_type": "code",
   "execution_count": 34,
   "id": "84d8781d-dd0d-4741-8dcd-92e443793b2f",
   "metadata": {},
   "outputs": [
    {
     "name": "stderr",
     "output_type": "stream",
     "text": [
      "Vectorizing texts: 100%|████████████████████████████████████████████████████████████| 66/66 [00:47<00:00,  1.40batch/s]\n"
     ]
    }
   ],
   "source": [
    "from tqdm import tqdm\n",
    "X_train_w2v_tfidf = vectorize_texts_in_batches(train_df['text'], model, idf_dict, batch_size=1000, n_jobs=2)"
   ]
  },
  {
   "cell_type": "code",
   "execution_count": 35,
   "id": "53e2f316-1539-4287-b58e-f2a15926939b",
   "metadata": {},
   "outputs": [
    {
     "name": "stderr",
     "output_type": "stream",
     "text": [
      "Vectorizing texts: 100%|████████████████████████████████████████████████████████████| 22/22 [00:16<00:00,  1.34batch/s]\n"
     ]
    }
   ],
   "source": [
    "X_val_w2v_tfidf = vectorize_texts_in_batches(val_df['text'], model, idf_dict, batch_size=1000, n_jobs=2)"
   ]
  },
  {
   "cell_type": "code",
   "execution_count": 36,
   "id": "bfe8a204-535f-459a-9256-fdbd9746d817",
   "metadata": {},
   "outputs": [
    {
     "name": "stderr",
     "output_type": "stream",
     "text": [
      "Vectorizing texts: 100%|████████████████████████████████████████████████████████████| 22/22 [00:15<00:00,  1.41batch/s]\n"
     ]
    }
   ],
   "source": [
    "X_test_w2v_tfidf = vectorize_texts_in_batches(test_df['text'], model, idf_dict, batch_size=1000, n_jobs=2)"
   ]
  },
  {
   "cell_type": "markdown",
   "id": "37b0c2a2-89d0-4fe6-98ef-73bfc7390509",
   "metadata": {},
   "source": [
    "Проверим качество нашей комбинированной модели на валидационной выборке"
   ]
  },
  {
   "cell_type": "code",
   "execution_count": 37,
   "id": "52bfeef0-0b70-40ea-be1b-32770e30648c",
   "metadata": {},
   "outputs": [
    {
     "name": "stdout",
     "output_type": "stream",
     "text": [
      "                   precision    recall  f1-score   support\n",
      "\n",
      "   69-я параллель       0.33      0.13      0.19        38\n",
      "           Бизнес       0.48      0.15      0.23       216\n",
      "      Бывший СССР       0.78      0.73      0.75      1557\n",
      "              Дом       0.81      0.71      0.75       646\n",
      "         Из жизни       0.63      0.55      0.59       827\n",
      "   Интернет и СМИ       0.71      0.65      0.68      1327\n",
      "             Крым       0.29      0.10      0.15        20\n",
      "    Культпросвет        0.00      0.00      0.00        10\n",
      "         Культура       0.85      0.86      0.86      1605\n",
      "              Мир       0.77      0.82      0.79      4079\n",
      "  Наука и техника       0.83      0.80      0.81      1579\n",
      "      Путешествия       0.66      0.51      0.57       192\n",
      "           Россия       0.72      0.80      0.76      4765\n",
      "Силовые структуры       0.44      0.18      0.26       584\n",
      "            Спорт       0.96      0.96      0.96      1927\n",
      "         Ценности       0.82      0.78      0.80       233\n",
      "        Экономика       0.79      0.85      0.82      2365\n",
      "\n",
      "         accuracy                           0.77     21970\n",
      "        macro avg       0.64      0.56      0.59     21970\n",
      "     weighted avg       0.77      0.77      0.77     21970\n",
      "\n"
     ]
    }
   ],
   "source": [
    "LR_w2v_tfidf= LogisticRegression(max_iter=1000)\n",
    "LR_w2v_tfidf.fit(X_train_w2v_tfidf, train_df['topic'])\n",
    "\n",
    "preds = LR_w2v_tfidf.predict(X_val_w2v_tfidf)\n",
    "print(classification_report(val_df['topic'], preds))"
   ]
  },
  {
   "cell_type": "markdown",
   "id": "37f48912-3d97-4483-951e-6e05aff5f2c1",
   "metadata": {},
   "source": [
    "# Финально сравнение качества всех моделей на тестовой выборке"
   ]
  },
  {
   "cell_type": "code",
   "execution_count": 38,
   "id": "8eeadfba-70ec-4566-bec9-c3ac20d8d80e",
   "metadata": {},
   "outputs": [
    {
     "name": "stdout",
     "output_type": "stream",
     "text": [
      "                   precision    recall  f1-score   support\n",
      "\n",
      "   69-я параллель       0.50      0.18      0.27        38\n",
      "           Бизнес       0.38      0.12      0.18       216\n",
      "      Бывший СССР       0.78      0.76      0.77      1557\n",
      "              Дом       0.82      0.74      0.78       646\n",
      "         Из жизни       0.63      0.52      0.57       828\n",
      "   Интернет и СМИ       0.71      0.65      0.68      1326\n",
      "             Крым       0.17      0.05      0.08        20\n",
      "    Культпросвет        0.33      0.10      0.15        10\n",
      "         Культура       0.84      0.86      0.85      1605\n",
      "              Мир       0.76      0.83      0.79      4079\n",
      "  Наука и техника       0.81      0.81      0.81      1579\n",
      "      Путешествия       0.63      0.47      0.54       192\n",
      "           Россия       0.74      0.81      0.77      4766\n",
      "Силовые структуры       0.48      0.22      0.30       585\n",
      "            Спорт       0.96      0.97      0.96      1926\n",
      "         Ценности       0.84      0.74      0.79       232\n",
      "        Экономика       0.81      0.85      0.83      2365\n",
      "\n",
      "         accuracy                           0.78     21970\n",
      "        macro avg       0.66      0.57      0.60     21970\n",
      "     weighted avg       0.77      0.78      0.77     21970\n",
      "\n"
     ]
    }
   ],
   "source": [
    "preds = LR_w2v_tfidf.predict(X_test_w2v_tfidf)\n",
    "print(classification_report(test_df['topic'], preds))"
   ]
  },
  {
   "cell_type": "code",
   "execution_count": 39,
   "id": "81109b7f-e779-47cd-82ba-4ad5cf6c75d2",
   "metadata": {},
   "outputs": [
    {
     "name": "stderr",
     "output_type": "stream",
     "text": [
      "C:\\Users\\lsd24\\AppData\\Local\\Programs\\Python\\Python311\\Lib\\site-packages\\sklearn\\metrics\\_classification.py:1531: UndefinedMetricWarning: Precision is ill-defined and being set to 0.0 in labels with no predicted samples. Use `zero_division` parameter to control this behavior.\n",
      "  _warn_prf(average, modifier, f\"{metric.capitalize()} is\", len(result))\n",
      "C:\\Users\\lsd24\\AppData\\Local\\Programs\\Python\\Python311\\Lib\\site-packages\\sklearn\\metrics\\_classification.py:1531: UndefinedMetricWarning: Precision is ill-defined and being set to 0.0 in labels with no predicted samples. Use `zero_division` parameter to control this behavior.\n",
      "  _warn_prf(average, modifier, f\"{metric.capitalize()} is\", len(result))\n"
     ]
    },
    {
     "name": "stdout",
     "output_type": "stream",
     "text": [
      "                   precision    recall  f1-score   support\n",
      "\n",
      "   69-я параллель       0.33      0.03      0.05        38\n",
      "           Бизнес       0.36      0.07      0.12       216\n",
      "      Бывший СССР       0.78      0.75      0.76      1557\n",
      "              Дом       0.82      0.73      0.77       646\n",
      "         Из жизни       0.63      0.52      0.57       828\n",
      "   Интернет и СМИ       0.71      0.65      0.68      1326\n",
      "             Крым       0.00      0.00      0.00        20\n",
      "    Культпросвет        0.00      0.00      0.00        10\n",
      "         Культура       0.84      0.86      0.85      1605\n",
      "              Мир       0.76      0.83      0.79      4079\n",
      "  Наука и техника       0.80      0.81      0.80      1579\n",
      "      Путешествия       0.69      0.47      0.56       192\n",
      "           Россия       0.74      0.81      0.77      4766\n",
      "Силовые структуры       0.50      0.24      0.32       585\n",
      "            Спорт       0.96      0.97      0.96      1926\n",
      "         Ценности       0.84      0.72      0.77       232\n",
      "        Экономика       0.79      0.85      0.82      2365\n",
      "\n",
      "         accuracy                           0.78     21970\n",
      "        macro avg       0.62      0.55      0.57     21970\n",
      "     weighted avg       0.77      0.78      0.77     21970\n",
      "\n"
     ]
    },
    {
     "name": "stderr",
     "output_type": "stream",
     "text": [
      "C:\\Users\\lsd24\\AppData\\Local\\Programs\\Python\\Python311\\Lib\\site-packages\\sklearn\\metrics\\_classification.py:1531: UndefinedMetricWarning: Precision is ill-defined and being set to 0.0 in labels with no predicted samples. Use `zero_division` parameter to control this behavior.\n",
      "  _warn_prf(average, modifier, f\"{metric.capitalize()} is\", len(result))\n"
     ]
    }
   ],
   "source": [
    "preds = logreg.predict(X_test_W2V)\n",
    "print(classification_report(test_df['topic'], preds))"
   ]
  },
  {
   "cell_type": "code",
   "execution_count": 40,
   "id": "03b6e15e-032b-4e27-b7ba-20d31ba6160e",
   "metadata": {},
   "outputs": [
    {
     "name": "stderr",
     "output_type": "stream",
     "text": [
      "C:\\Users\\lsd24\\AppData\\Local\\Programs\\Python\\Python311\\Lib\\site-packages\\sklearn\\metrics\\_classification.py:1531: UndefinedMetricWarning: Precision is ill-defined and being set to 0.0 in labels with no predicted samples. Use `zero_division` parameter to control this behavior.\n",
      "  _warn_prf(average, modifier, f\"{metric.capitalize()} is\", len(result))\n",
      "C:\\Users\\lsd24\\AppData\\Local\\Programs\\Python\\Python311\\Lib\\site-packages\\sklearn\\metrics\\_classification.py:1531: UndefinedMetricWarning: Precision is ill-defined and being set to 0.0 in labels with no predicted samples. Use `zero_division` parameter to control this behavior.\n",
      "  _warn_prf(average, modifier, f\"{metric.capitalize()} is\", len(result))\n"
     ]
    },
    {
     "name": "stdout",
     "output_type": "stream",
     "text": [
      "                   precision    recall  f1-score   support\n",
      "\n",
      "   69-я параллель       0.12      0.03      0.04        38\n",
      "           Бизнес       0.44      0.10      0.16       216\n",
      "      Бывший СССР       0.79      0.79      0.79      1557\n",
      "              Дом       0.81      0.73      0.77       646\n",
      "         Из жизни       0.62      0.54      0.57       828\n",
      "   Интернет и СМИ       0.72      0.67      0.69      1326\n",
      "             Крым       0.33      0.05      0.09        20\n",
      "    Культпросвет        0.00      0.00      0.00        10\n",
      "         Культура       0.84      0.86      0.85      1605\n",
      "              Мир       0.77      0.82      0.79      4079\n",
      "  Наука и техника       0.79      0.82      0.80      1579\n",
      "      Путешествия       0.64      0.48      0.55       192\n",
      "           Россия       0.75      0.80      0.77      4766\n",
      "Силовые структуры       0.53      0.28      0.36       585\n",
      "            Спорт       0.95      0.98      0.96      1926\n",
      "         Ценности       0.80      0.70      0.75       232\n",
      "        Экономика       0.79      0.85      0.82      2365\n",
      "\n",
      "         accuracy                           0.78     21970\n",
      "        macro avg       0.63      0.56      0.57     21970\n",
      "     weighted avg       0.77      0.78      0.77     21970\n",
      "\n"
     ]
    },
    {
     "name": "stderr",
     "output_type": "stream",
     "text": [
      "C:\\Users\\lsd24\\AppData\\Local\\Programs\\Python\\Python311\\Lib\\site-packages\\sklearn\\metrics\\_classification.py:1531: UndefinedMetricWarning: Precision is ill-defined and being set to 0.0 in labels with no predicted samples. Use `zero_division` parameter to control this behavior.\n",
      "  _warn_prf(average, modifier, f\"{metric.capitalize()} is\", len(result))\n"
     ]
    }
   ],
   "source": [
    "preds = logregNavec.predict(X_test_navec)\n",
    "print(classification_report(test_df['topic'], preds))"
   ]
  },
  {
   "cell_type": "code",
   "execution_count": 41,
   "id": "1ab454d3-2a0f-45d6-ba86-3323baaf5ead",
   "metadata": {},
   "outputs": [
    {
     "name": "stderr",
     "output_type": "stream",
     "text": [
      "C:\\Users\\lsd24\\AppData\\Local\\Programs\\Python\\Python311\\Lib\\site-packages\\sklearn\\metrics\\_classification.py:1531: UndefinedMetricWarning: Precision is ill-defined and being set to 0.0 in labels with no predicted samples. Use `zero_division` parameter to control this behavior.\n",
      "  _warn_prf(average, modifier, f\"{metric.capitalize()} is\", len(result))\n",
      "C:\\Users\\lsd24\\AppData\\Local\\Programs\\Python\\Python311\\Lib\\site-packages\\sklearn\\metrics\\_classification.py:1531: UndefinedMetricWarning: Precision is ill-defined and being set to 0.0 in labels with no predicted samples. Use `zero_division` parameter to control this behavior.\n",
      "  _warn_prf(average, modifier, f\"{metric.capitalize()} is\", len(result))\n"
     ]
    },
    {
     "name": "stdout",
     "output_type": "stream",
     "text": [
      "                   precision    recall  f1-score   support\n",
      "\n",
      "   69-я параллель       0.00      0.00      0.00        38\n",
      "           Бизнес       0.00      0.00      0.00       216\n",
      "      Бывший СССР       0.00      0.00      0.00      1557\n",
      "              Дом       0.00      0.00      0.00       646\n",
      "         Из жизни       0.00      0.00      0.00       828\n",
      "   Интернет и СМИ       0.00      0.00      0.00      1326\n",
      "             Крым       0.00      0.00      0.00        20\n",
      "    Культпросвет        0.00      0.00      0.00        10\n",
      "         Культура       0.00      0.00      0.00      1605\n",
      "              Мир       0.00      0.00      0.00      4079\n",
      "  Наука и техника       0.00      0.00      0.00      1579\n",
      "      Путешествия       0.00      0.00      0.00       192\n",
      "           Россия       0.22      1.00      0.36      4766\n",
      "Силовые структуры       0.00      0.00      0.00       585\n",
      "            Спорт       0.00      0.00      0.00      1926\n",
      "         Ценности       0.00      0.00      0.00       232\n",
      "        Экономика       0.00      0.00      0.00      2365\n",
      "\n",
      "         accuracy                           0.22     21970\n",
      "        macro avg       0.01      0.06      0.02     21970\n",
      "     weighted avg       0.05      0.22      0.08     21970\n",
      "\n"
     ]
    },
    {
     "name": "stderr",
     "output_type": "stream",
     "text": [
      "C:\\Users\\lsd24\\AppData\\Local\\Programs\\Python\\Python311\\Lib\\site-packages\\sklearn\\metrics\\_classification.py:1531: UndefinedMetricWarning: Precision is ill-defined and being set to 0.0 in labels with no predicted samples. Use `zero_division` parameter to control this behavior.\n",
      "  _warn_prf(average, modifier, f\"{metric.capitalize()} is\", len(result))\n"
     ]
    }
   ],
   "source": [
    "preds = logregRus.predict(X_test_rv)\n",
    "print(classification_report(test_df['topic'], preds))"
   ]
  },
  {
   "cell_type": "markdown",
   "id": "e8041b82-a550-4f61-94f0-6226a7c32729",
   "metadata": {},
   "source": [
    "### Как можно видеть, эмбединги rusvectors дают совсем плохое качество, а остальные решение, такие как обученный нами w2v, navec и комбинированнная модель w2v и tf-idf дают неплохое и одинаковое качество"
   ]
  },
  {
   "cell_type": "code",
   "execution_count": null,
   "id": "44810adc-90a2-48e7-aaa9-86f56984559d",
   "metadata": {},
   "outputs": [],
   "source": []
  }
 ],
 "metadata": {
  "kernelspec": {
   "display_name": "Python 3 (ipykernel)",
   "language": "python",
   "name": "python3"
  },
  "language_info": {
   "codemirror_mode": {
    "name": "ipython",
    "version": 3
   },
   "file_extension": ".py",
   "mimetype": "text/x-python",
   "name": "python",
   "nbconvert_exporter": "python",
   "pygments_lexer": "ipython3",
   "version": "3.11.9"
  }
 },
 "nbformat": 4,
 "nbformat_minor": 5
}
