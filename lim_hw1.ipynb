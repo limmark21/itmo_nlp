{
 "cells": [
  {
   "cell_type": "markdown",
   "id": "ce7407c9-72fd-42f2-b23d-4a14e4d07cc6",
   "metadata": {},
   "source": [
    "## Установка, импорт библиотек"
   ]
  },
  {
   "cell_type": "code",
   "execution_count": 1,
   "id": "835f635a",
   "metadata": {},
   "outputs": [
    {
     "name": "stderr",
     "output_type": "stream",
     "text": [
      "Since the GPL-licensed package `unidecode` is not installed, using Python's `unicodedata` package which yields worse results.\n"
     ]
    }
   ],
   "source": [
    "import pandas as pd\n",
    "from corus import load_lenta\n",
    "import matplotlib.pyplot as plt\n",
    "import nltk\n",
    "from nltk.corpus import stopwords\n",
    "import pymorphy2\n",
    "import re\n",
    "from pandarallel import pandarallel\n",
    "from cleantext import clean\n",
    "import numpy as np\n",
    "import random\n",
    "import os\n",
    "\n",
    "from sklearn.model_selection import train_test_split, cross_val_score, StratifiedKFold\n",
    "from sklearn.feature_extraction.text import TfidfVectorizer, CountVectorizer\n",
    "from sklearn.linear_model import LogisticRegression\n",
    "from sklearn.dummy import DummyClassifier\n",
    "from sklearn.metrics import classification_report, f1_score\n",
    "from sklearn.pipeline import Pipeline\n",
    "import optuna\n",
    "from optuna.samplers import TPESampler"
   ]
  },
  {
   "cell_type": "markdown",
   "id": "c6614318-d5a6-4b98-b752-d3ac423387f9",
   "metadata": {},
   "source": [
    "## Фиксируем random state"
   ]
  },
  {
   "cell_type": "code",
   "execution_count": 2,
   "id": "55a34d4e-2ec9-43a1-be94-0ae3ce6abfe4",
   "metadata": {},
   "outputs": [
    {
     "name": "stdout",
     "output_type": "stream",
     "text": [
      "Random seed set as 42\n"
     ]
    }
   ],
   "source": [
    "RANDOM_STATE = 42\n",
    "\n",
    "def set_seed(seed: int = RANDOM_STATE) -> None:\n",
    "    np.random.seed(seed)\n",
    "    random.seed(seed)\n",
    "    os.environ[\"PYTHONHASHSEED\"] = str(seed)\n",
    "    print(f\"Random seed set as {seed}\")\n",
    "\n",
    "set_seed(42)"
   ]
  },
  {
   "cell_type": "markdown",
   "id": "155e2118-62fd-4ff7-bca2-60a033efc3b0",
   "metadata": {
    "execution": {
     "iopub.execute_input": "2025-03-05T19:09:00.286346Z",
     "iopub.status.busy": "2025-03-05T19:09:00.285689Z",
     "iopub.status.idle": "2025-03-05T19:09:00.876634Z",
     "shell.execute_reply": "2025-03-05T19:09:00.875598Z",
     "shell.execute_reply.started": "2025-03-05T19:09:00.286314Z"
    }
   },
   "source": [
    "## Загрузка данных новостей"
   ]
  },
  {
   "cell_type": "code",
   "execution_count": 3,
   "id": "d8fc4af3",
   "metadata": {},
   "outputs": [
    {
     "name": "stderr",
     "output_type": "stream",
     "text": [
      "\"wget\" ­Ґ пў«пҐвбп ў­гваҐ­­Ґ© Ё«Ё ў­Ґи­Ґ©\n",
      "Є®¬ ­¤®©, ЁбЇ®«­пҐ¬®© Їа®Ја ¬¬®© Ё«Ё Ї ЄҐв­л¬ д ©«®¬.\n"
     ]
    }
   ],
   "source": [
    "!wget https://github.com/yutkin/Lenta.Ru-News-Dataset/releases/download/v1.0/lenta-ru-news.csv.gz"
   ]
  },
  {
   "cell_type": "code",
   "execution_count": 4,
   "id": "c9fb8f74",
   "metadata": {},
   "outputs": [
    {
     "data": {
      "text/plain": [
       "LentaRecord(\n",
       "    url='https://lenta.ru/news/2018/12/14/cancer/',\n",
       "    title='Названы регионы России с\\xa0самой высокой смертностью от\\xa0рака',\n",
       "    text='Вице-премьер по социальным вопросам Татьяна Голикова рассказала, в каких регионах России зафиксирована наиболее высокая смертность от рака, сообщает РИА Новости. По словам Голиковой, чаще всего онкологические заболевания становились причиной смерти в Псковской, Тверской, Тульской и Орловской областях, а также в Севастополе. Вице-премьер напомнила, что главные факторы смертности в России — рак и болезни системы кровообращения. В начале года стало известно, что смертность от онкологических заболеваний среди россиян снизилась впервые за три года. По данным Росстата, в 2017 году от рака умерли 289 тысяч человек. Это на 3,5 процента меньше, чем годом ранее.',\n",
       "    topic='Россия',\n",
       "    tags='Общество',\n",
       "    date=None\n",
       ")"
      ]
     },
     "execution_count": 4,
     "metadata": {},
     "output_type": "execute_result"
    }
   ],
   "source": [
    "path = 'lenta-ru-news.csv.gz'\n",
    "records = load_lenta(path)\n",
    "next(records)"
   ]
  },
  {
   "cell_type": "code",
   "execution_count": 5,
   "id": "2d848cbf",
   "metadata": {},
   "outputs": [],
   "source": [
    "data = []\n",
    "for record in records:\n",
    "    data.append((record.text, record.title, record.topic))\n",
    "\n",
    "df = pd.DataFrame(data, columns=[\"text\", \"title\", \"topic\"])"
   ]
  },
  {
   "cell_type": "code",
   "execution_count": 6,
   "id": "2c5e8c0f",
   "metadata": {},
   "outputs": [
    {
     "data": {
      "text/html": [
       "<div>\n",
       "<style scoped>\n",
       "    .dataframe tbody tr th:only-of-type {\n",
       "        vertical-align: middle;\n",
       "    }\n",
       "\n",
       "    .dataframe tbody tr th {\n",
       "        vertical-align: top;\n",
       "    }\n",
       "\n",
       "    .dataframe thead th {\n",
       "        text-align: right;\n",
       "    }\n",
       "</style>\n",
       "<table border=\"1\" class=\"dataframe\">\n",
       "  <thead>\n",
       "    <tr style=\"text-align: right;\">\n",
       "      <th></th>\n",
       "      <th>text</th>\n",
       "      <th>title</th>\n",
       "      <th>topic</th>\n",
       "    </tr>\n",
       "  </thead>\n",
       "  <tbody>\n",
       "    <tr>\n",
       "      <th>0</th>\n",
       "      <td>Австрийские правоохранительные органы не предс...</td>\n",
       "      <td>Австрия не представила доказательств вины росс...</td>\n",
       "      <td>Спорт</td>\n",
       "    </tr>\n",
       "    <tr>\n",
       "      <th>1</th>\n",
       "      <td>Сотрудники социальной сети Instagram проанализ...</td>\n",
       "      <td>Обнаружено самое счастливое место на планете</td>\n",
       "      <td>Путешествия</td>\n",
       "    </tr>\n",
       "    <tr>\n",
       "      <th>2</th>\n",
       "      <td>С начала расследования российского вмешательст...</td>\n",
       "      <td>В США раскрыли сумму расходов на расследование...</td>\n",
       "      <td>Мир</td>\n",
       "    </tr>\n",
       "    <tr>\n",
       "      <th>3</th>\n",
       "      <td>Хакерская группировка Anonymous опубликовала н...</td>\n",
       "      <td>Хакеры рассказали о планах Великобритании зами...</td>\n",
       "      <td>Мир</td>\n",
       "    </tr>\n",
       "    <tr>\n",
       "      <th>4</th>\n",
       "      <td>Архиепископ канонической Украинской православн...</td>\n",
       "      <td>Архиепископ канонической УПЦ отказался прийти ...</td>\n",
       "      <td>Бывший СССР</td>\n",
       "    </tr>\n",
       "    <tr>\n",
       "      <th>...</th>\n",
       "      <td>...</td>\n",
       "      <td>...</td>\n",
       "      <td>...</td>\n",
       "    </tr>\n",
       "    <tr>\n",
       "      <th>739345</th>\n",
       "      <td>Сегодня областной центр Сахалина и Курил получ...</td>\n",
       "      <td>Южно-Сахалинск объявлен очагом холеры</td>\n",
       "      <td>Россия</td>\n",
       "    </tr>\n",
       "    <tr>\n",
       "      <th>739346</th>\n",
       "      <td>Бывший шеф Службы безопасности президента  Але...</td>\n",
       "      <td>Леворадикалы создают предвыборный блок</td>\n",
       "      <td>Россия</td>\n",
       "    </tr>\n",
       "    <tr>\n",
       "      <th>739347</th>\n",
       "      <td>Сегодня утром в районах дагестанских селений Ч...</td>\n",
       "      <td>В горах Дагестана идут активные боевые действия</td>\n",
       "      <td>Россия</td>\n",
       "    </tr>\n",
       "    <tr>\n",
       "      <th>739348</th>\n",
       "      <td>Намеченная на сегодняшний день церемония вступ...</td>\n",
       "      <td>Карачаево-Черкесия раскололась по национальном...</td>\n",
       "      <td>Россия</td>\n",
       "    </tr>\n",
       "    <tr>\n",
       "      <th>739349</th>\n",
       "      <td>На состоявшейся сегодня в Москве пресс-конфере...</td>\n",
       "      <td>Коржаков готов рассказать Генпрокуратуре про ф...</td>\n",
       "      <td>Россия</td>\n",
       "    </tr>\n",
       "  </tbody>\n",
       "</table>\n",
       "<p>739350 rows × 3 columns</p>\n",
       "</div>"
      ],
      "text/plain": [
       "                                                     text  \\\n",
       "0       Австрийские правоохранительные органы не предс...   \n",
       "1       Сотрудники социальной сети Instagram проанализ...   \n",
       "2       С начала расследования российского вмешательст...   \n",
       "3       Хакерская группировка Anonymous опубликовала н...   \n",
       "4       Архиепископ канонической Украинской православн...   \n",
       "...                                                   ...   \n",
       "739345  Сегодня областной центр Сахалина и Курил получ...   \n",
       "739346  Бывший шеф Службы безопасности президента  Але...   \n",
       "739347  Сегодня утром в районах дагестанских селений Ч...   \n",
       "739348  Намеченная на сегодняшний день церемония вступ...   \n",
       "739349  На состоявшейся сегодня в Москве пресс-конфере...   \n",
       "\n",
       "                                                    title        topic  \n",
       "0       Австрия не представила доказательств вины росс...        Спорт  \n",
       "1            Обнаружено самое счастливое место на планете  Путешествия  \n",
       "2       В США раскрыли сумму расходов на расследование...          Мир  \n",
       "3       Хакеры рассказали о планах Великобритании зами...          Мир  \n",
       "4       Архиепископ канонической УПЦ отказался прийти ...  Бывший СССР  \n",
       "...                                                   ...          ...  \n",
       "739345              Южно-Сахалинск объявлен очагом холеры       Россия  \n",
       "739346             Леворадикалы создают предвыборный блок       Россия  \n",
       "739347    В горах Дагестана идут активные боевые действия       Россия  \n",
       "739348  Карачаево-Черкесия раскололась по национальном...       Россия  \n",
       "739349  Коржаков готов рассказать Генпрокуратуре про ф...       Россия  \n",
       "\n",
       "[739350 rows x 3 columns]"
      ]
     },
     "execution_count": 6,
     "metadata": {},
     "output_type": "execute_result"
    }
   ],
   "source": [
    "df"
   ]
  },
  {
   "cell_type": "markdown",
   "id": "0c300fcf-11a9-4cc3-9bd6-448a0e31172f",
   "metadata": {},
   "source": [
    "## Предобработка данных"
   ]
  },
  {
   "cell_type": "code",
   "execution_count": 7,
   "id": "8bd39760-7917-4b9d-86d8-d8fdd7b4dc34",
   "metadata": {},
   "outputs": [],
   "source": [
    "mo = df['text'].apply(len).describe()['mean']\n",
    "sko = df['text'].apply(len).describe()['std']"
   ]
  },
  {
   "cell_type": "markdown",
   "id": "92bfb2fa-fad2-41ea-9b6f-bea5a99a8c0e",
   "metadata": {},
   "source": [
    "Удалим выбросы из нашего датасета"
   ]
  },
  {
   "cell_type": "code",
   "execution_count": 8,
   "id": "22181d9e",
   "metadata": {},
   "outputs": [
    {
     "data": {
      "text/plain": [
       "(732724, 3)"
      ]
     },
     "execution_count": 8,
     "metadata": {},
     "output_type": "execute_result"
    }
   ],
   "source": [
    "df = df[df.text.apply(len) < mo+3*sko]\n",
    "df.shape"
   ]
  },
  {
   "cell_type": "code",
   "execution_count": 9,
   "id": "e522d683",
   "metadata": {},
   "outputs": [
    {
     "data": {
      "text/plain": [
       "topic\n",
       "Россия               158851\n",
       "Мир                  135973\n",
       "Экономика             78836\n",
       "Спорт                 64213\n",
       "Культура              53501\n",
       "Наука и техника       52627\n",
       "Бывший СССР           51896\n",
       "Интернет и СМИ        44220\n",
       "Из жизни              27575\n",
       "Дом                   21524\n",
       "Силовые структуры     19489\n",
       "Ценности               7755\n",
       "Бизнес                 7205\n",
       "Путешествия            6405\n",
       "69-я параллель         1265\n",
       "Крым                    664\n",
       "Культпросвет            340\n",
       "                        200\n",
       "Легпром                 113\n",
       "Библиотека               65\n",
       "Оружие                    3\n",
       "ЧМ-2014                   2\n",
       "МедНовости                1\n",
       "Сочи                      1\n",
       "Name: count, dtype: int64"
      ]
     },
     "execution_count": 9,
     "metadata": {},
     "output_type": "execute_result"
    }
   ],
   "source": [
    "df['topic'].value_counts()"
   ]
  },
  {
   "cell_type": "markdown",
   "id": "dd86cb4d",
   "metadata": {},
   "source": [
    "Удалим топики, где сликшом мало объектов, также удалим странный пустой топик"
   ]
  },
  {
   "cell_type": "code",
   "execution_count": 10,
   "id": "65c33501",
   "metadata": {},
   "outputs": [
    {
     "name": "stdout",
     "output_type": "stream",
     "text": [
      "Удаленные топики:  ['', 'Легпром', 'Библиотека', 'Оружие', 'ЧМ-2014', 'МедНовости', 'Сочи']\n"
     ]
    }
   ],
   "source": [
    "cnt = df['topic'].value_counts()\n",
    "\n",
    "to_del_topics = list(cnt[cnt < 300].index)\n",
    "print(\"Удаленные топики: \", to_del_topics)"
   ]
  },
  {
   "cell_type": "code",
   "execution_count": 11,
   "id": "8586f93b",
   "metadata": {},
   "outputs": [
    {
     "data": {
      "text/plain": [
       "topic\n",
       "Россия               158851\n",
       "Мир                  135973\n",
       "Экономика             78836\n",
       "Спорт                 64213\n",
       "Культура              53501\n",
       "Наука и техника       52627\n",
       "Бывший СССР           51896\n",
       "Интернет и СМИ        44220\n",
       "Из жизни              27575\n",
       "Дом                   21524\n",
       "Силовые структуры     19489\n",
       "Ценности               7755\n",
       "Бизнес                 7205\n",
       "Путешествия            6405\n",
       "69-я параллель         1265\n",
       "Крым                    664\n",
       "Культпросвет            340\n",
       "Name: count, dtype: int64"
      ]
     },
     "execution_count": 11,
     "metadata": {},
     "output_type": "execute_result"
    }
   ],
   "source": [
    "df = df[~df[\"topic\"].isin(to_del_topics)]\n",
    "df['topic'].value_counts()"
   ]
  },
  {
   "cell_type": "markdown",
   "id": "5affcf75",
   "metadata": {},
   "source": [
    "## Получим репрезентативную выборку меньшего размера, возьмем в каждой группе по 15%, что по итогу нам даст около 100K объектов в сэмпле"
   ]
  },
  {
   "cell_type": "code",
   "execution_count": 12,
   "id": "57cfb433",
   "metadata": {},
   "outputs": [
    {
     "name": "stderr",
     "output_type": "stream",
     "text": [
      "C:\\Users\\lsd24\\AppData\\Local\\Temp\\ipykernel_22288\\3103091495.py:1: DeprecationWarning: DataFrameGroupBy.apply operated on the grouping columns. This behavior is deprecated, and in a future version of pandas the grouping columns will be excluded from the operation. Either pass `include_groups=False` to exclude the groupings or explicitly select the grouping columns after groupby to silence this warning.\n",
      "  sample_data = df.groupby('topic', group_keys=False).apply(lambda x: x.sample(frac=0.15))\n"
     ]
    }
   ],
   "source": [
    "sample_data = df.groupby('topic', group_keys=False).apply(lambda x: x.sample(frac=0.15))"
   ]
  },
  {
   "cell_type": "code",
   "execution_count": 13,
   "id": "c8c1f885",
   "metadata": {},
   "outputs": [
    {
     "data": {
      "text/html": [
       "<div>\n",
       "<style scoped>\n",
       "    .dataframe tbody tr th:only-of-type {\n",
       "        vertical-align: middle;\n",
       "    }\n",
       "\n",
       "    .dataframe tbody tr th {\n",
       "        vertical-align: top;\n",
       "    }\n",
       "\n",
       "    .dataframe thead th {\n",
       "        text-align: right;\n",
       "    }\n",
       "</style>\n",
       "<table border=\"1\" class=\"dataframe\">\n",
       "  <thead>\n",
       "    <tr style=\"text-align: right;\">\n",
       "      <th></th>\n",
       "      <th>index</th>\n",
       "      <th>text</th>\n",
       "      <th>title</th>\n",
       "      <th>topic</th>\n",
       "    </tr>\n",
       "  </thead>\n",
       "  <tbody>\n",
       "    <tr>\n",
       "      <th>0</th>\n",
       "      <td>149397</td>\n",
       "      <td>Ученые из новосибирского Института химической ...</td>\n",
       "      <td>Сибирские ученые открыли новый способ выявлени...</td>\n",
       "      <td>69-я параллель</td>\n",
       "    </tr>\n",
       "    <tr>\n",
       "      <th>1</th>\n",
       "      <td>142717</td>\n",
       "      <td>«Норильский никель» планирует в 2016-2018 года...</td>\n",
       "      <td>«Норникель» потратит на инвестиции 6 миллиардо...</td>\n",
       "      <td>69-я параллель</td>\n",
       "    </tr>\n",
       "    <tr>\n",
       "      <th>2</th>\n",
       "      <td>50131</td>\n",
       "      <td>В Министерстве труда предложили дарить матерям...</td>\n",
       "      <td>Минтруд собрался раздать новорожденным чепчики...</td>\n",
       "      <td>69-я параллель</td>\n",
       "    </tr>\n",
       "    <tr>\n",
       "      <th>3</th>\n",
       "      <td>139634</td>\n",
       "      <td>На полуострове Ямал для туристов разработали м...</td>\n",
       "      <td>Туристам на Ямале предложили посетить самую во...</td>\n",
       "      <td>69-я параллель</td>\n",
       "    </tr>\n",
       "    <tr>\n",
       "      <th>4</th>\n",
       "      <td>105236</td>\n",
       "      <td>145 миллиардов рублей будет инвестировано в ст...</td>\n",
       "      <td>В создание Мурманского транспортного узла влож...</td>\n",
       "      <td>69-я параллель</td>\n",
       "    </tr>\n",
       "    <tr>\n",
       "      <th>...</th>\n",
       "      <td>...</td>\n",
       "      <td>...</td>\n",
       "      <td>...</td>\n",
       "      <td>...</td>\n",
       "    </tr>\n",
       "    <tr>\n",
       "      <th>109846</th>\n",
       "      <td>215891</td>\n",
       "      <td>Airbus Group NV выиграла конкурс China Aircraf...</td>\n",
       "      <td>Airbus поставит Китаю еще 100 самолетов</td>\n",
       "      <td>Экономика</td>\n",
       "    </tr>\n",
       "    <tr>\n",
       "      <th>109847</th>\n",
       "      <td>580811</td>\n",
       "      <td>Госдума приняла в третьем чтении поправки в На...</td>\n",
       "      <td>Госдума разрешила ФНС забирать банковские вклады</td>\n",
       "      <td>Экономика</td>\n",
       "    </tr>\n",
       "    <tr>\n",
       "      <th>109848</th>\n",
       "      <td>258185</td>\n",
       "      <td>Россия планирует к 2030 году занять 20 процент...</td>\n",
       "      <td>Россия собралась занять 20 процентов мирового ...</td>\n",
       "      <td>Экономика</td>\n",
       "    </tr>\n",
       "    <tr>\n",
       "      <th>109849</th>\n",
       "      <td>681012</td>\n",
       "      <td>Крупнейшие инвестиционные компании мира J.P. M...</td>\n",
       "      <td>Инвестиционные компании США готовят масштабные...</td>\n",
       "      <td>Экономика</td>\n",
       "    </tr>\n",
       "    <tr>\n",
       "      <th>109850</th>\n",
       "      <td>560415</td>\n",
       "      <td>Компания Royal Dutch Shell сообщила, что ее пр...</td>\n",
       "      <td>Shell зарабатывала в 2006 году по полтора милл...</td>\n",
       "      <td>Экономика</td>\n",
       "    </tr>\n",
       "  </tbody>\n",
       "</table>\n",
       "<p>109851 rows × 4 columns</p>\n",
       "</div>"
      ],
      "text/plain": [
       "         index                                               text  \\\n",
       "0       149397  Ученые из новосибирского Института химической ...   \n",
       "1       142717  «Норильский никель» планирует в 2016-2018 года...   \n",
       "2        50131  В Министерстве труда предложили дарить матерям...   \n",
       "3       139634  На полуострове Ямал для туристов разработали м...   \n",
       "4       105236  145 миллиардов рублей будет инвестировано в ст...   \n",
       "...        ...                                                ...   \n",
       "109846  215891  Airbus Group NV выиграла конкурс China Aircraf...   \n",
       "109847  580811  Госдума приняла в третьем чтении поправки в На...   \n",
       "109848  258185  Россия планирует к 2030 году занять 20 процент...   \n",
       "109849  681012  Крупнейшие инвестиционные компании мира J.P. M...   \n",
       "109850  560415  Компания Royal Dutch Shell сообщила, что ее пр...   \n",
       "\n",
       "                                                    title           topic  \n",
       "0       Сибирские ученые открыли новый способ выявлени...  69-я параллель  \n",
       "1       «Норникель» потратит на инвестиции 6 миллиардо...  69-я параллель  \n",
       "2       Минтруд собрался раздать новорожденным чепчики...  69-я параллель  \n",
       "3       Туристам на Ямале предложили посетить самую во...  69-я параллель  \n",
       "4       В создание Мурманского транспортного узла влож...  69-я параллель  \n",
       "...                                                   ...             ...  \n",
       "109846            Airbus поставит Китаю еще 100 самолетов       Экономика  \n",
       "109847   Госдума разрешила ФНС забирать банковские вклады       Экономика  \n",
       "109848  Россия собралась занять 20 процентов мирового ...       Экономика  \n",
       "109849  Инвестиционные компании США готовят масштабные...       Экономика  \n",
       "109850  Shell зарабатывала в 2006 году по полтора милл...       Экономика  \n",
       "\n",
       "[109851 rows x 4 columns]"
      ]
     },
     "execution_count": 13,
     "metadata": {},
     "output_type": "execute_result"
    }
   ],
   "source": [
    "sample_data.reset_index(inplace=True)\n",
    "sample_data"
   ]
  },
  {
   "cell_type": "markdown",
   "id": "193a968b-3a51-4cd9-92fe-8bd950c00a4c",
   "metadata": {},
   "source": [
    "## Подготовка данных к обучению"
   ]
  },
  {
   "cell_type": "markdown",
   "id": "aadd05de",
   "metadata": {},
   "source": [
    "Сделаем нормализацию и очистку данных, чтобы улучшить качество данных."
   ]
  },
  {
   "cell_type": "code",
   "execution_count": 14,
   "id": "55b4e6ba",
   "metadata": {},
   "outputs": [],
   "source": [
    "def clean_russian_news(text):\n",
    "    cleaned_text = clean(\n",
    "        text,\n",
    "        fix_unicode=True,\n",
    "        to_ascii=False,\n",
    "        lower=True,\n",
    "        no_line_breaks=True,\n",
    "        no_urls=True,\n",
    "        no_emails=True,\n",
    "        no_phone_numbers=True,\n",
    "        no_numbers=False,\n",
    "        no_digits=False,\n",
    "        no_currency_symbols=False,\n",
    "        no_punct=True,\n",
    "        replace_with_url=\"<URL>\",\n",
    "        replace_with_email=\"<EMAIL>\",\n",
    "        replace_with_phone_number=\"<PHONE>\",\n",
    "        replace_with_punct=\"\",\n",
    "        lang='ru'\n",
    "    )\n",
    "    return cleaned_text"
   ]
  },
  {
   "cell_type": "code",
   "execution_count": 15,
   "id": "0829ae17",
   "metadata": {},
   "outputs": [],
   "source": [
    "for t in (\"title\", \"text\"):\n",
    "    sample_data[t] = sample_data[t].apply(clean_russian_news)"
   ]
  },
  {
   "cell_type": "markdown",
   "id": "6d8a471b-dba6-420a-81f4-b5a365060128",
   "metadata": {},
   "source": [
    "Примерный вид текста после обработки:"
   ]
  },
  {
   "cell_type": "code",
   "execution_count": 16,
   "id": "4218633f",
   "metadata": {},
   "outputs": [
    {
     "data": {
      "text/plain": [
       "'ученые из новосибирского института химической биологии и фундаментальной медицины ихбфм со ран и красноярского института биофизики ибф со ран создали биосенсор способный с высокой точностью распознавать клещевой энцефалит об этом сообщает со ссылкой на представителей ихбфм со ран разработка представляет собой биолюминисцентный зонд на основе клонированного белка мягкого коралла преимущество биосенсора высокая чувствительность которая позволяет выявить даже незначительное количество вируса клещевого энцефалита говорится в официальном издании со ран наука в сибири для тестирования на энцефалит клещ размалывается из него экстрагируется водная часть которая может содержать вирус затем водная суспензия вносится в ячейки содержащие антитела далее добавляется биолюминисцентный зонд если вирус присутствует зонд подаст сигнал пояснили ученые выявить клещевой энцефалит в крови сложнее он присутствует там недолго а потом проникает в нервную систему так что основное применение зонда экспресспроверка клещей переносящих заболевание перед началом массового практического применения зонда нужно провести еще ряд экспериментов и оптимизировать прототип тестсистемы впоследствии открытие ученых может быть использовано для выявления других вирусов клещевой вирусный энцефалит тяжелое инфекционное заболевание переносчиком которого является зараженный клещ основной метод выявления вируса проверка укусившего человека клеща в 2015 году число пострадавших от укуса клеща россиян увеличилось на 244 процента по сравнению с годом ранее почти 50 процентов от всех зараженных жителей страны пришлось на сибирский федеральный округ из 2308 случаев заболевания клещевым энцефалитом 379 были зарегистрированы в красноярском крае это самый высокий показатель по россии'"
      ]
     },
     "execution_count": 16,
     "metadata": {},
     "output_type": "execute_result"
    }
   ],
   "source": [
    "sample_data['text'][0]"
   ]
  },
  {
   "cell_type": "markdown",
   "id": "d27602c1",
   "metadata": {},
   "source": [
    "### Лемматизация и удаление стоп слов\n",
    "Проведем лемматизацию, хоть она и более долгая, но тк стэмминг мне кажется более слабоым видом обработки текста в силу специфики русского языка,"
   ]
  },
  {
   "cell_type": "code",
   "execution_count": 17,
   "id": "145012aa-767b-4b52-a736-d23913003937",
   "metadata": {
    "scrolled": true
   },
   "outputs": [
    {
     "name": "stderr",
     "output_type": "stream",
     "text": [
      "[nltk_data] Downloading package punkt to\n",
      "[nltk_data]     C:\\Users\\lsd24\\AppData\\Roaming\\nltk_data...\n",
      "[nltk_data]   Package punkt is already up-to-date!\n",
      "[nltk_data] Downloading package stopwords to\n",
      "[nltk_data]     C:\\Users\\lsd24\\AppData\\Roaming\\nltk_data...\n",
      "[nltk_data]   Package stopwords is already up-to-date!\n",
      "[nltk_data] Downloading package wordnet to\n",
      "[nltk_data]     C:\\Users\\lsd24\\AppData\\Roaming\\nltk_data...\n",
      "[nltk_data]   Package wordnet is already up-to-date!\n",
      "[nltk_data] Downloading package omw-1.4 to\n",
      "[nltk_data]     C:\\Users\\lsd24\\AppData\\Roaming\\nltk_data...\n",
      "[nltk_data]   Package omw-1.4 is already up-to-date!\n"
     ]
    },
    {
     "data": {
      "text/plain": [
       "True"
      ]
     },
     "execution_count": 17,
     "metadata": {},
     "output_type": "execute_result"
    }
   ],
   "source": [
    "nltk.download('punkt')\n",
    "nltk.download('stopwords')\n",
    "nltk.download('wordnet')\n",
    "nltk.download('omw-1.4')"
   ]
  },
  {
   "cell_type": "code",
   "execution_count": 18,
   "id": "faf410a9",
   "metadata": {},
   "outputs": [
    {
     "name": "stderr",
     "output_type": "stream",
     "text": [
      "[nltk_data] Downloading package stopwords to\n",
      "[nltk_data]     C:\\Users\\lsd24\\AppData\\Roaming\\nltk_data...\n",
      "[nltk_data]   Package stopwords is already up-to-date!\n"
     ]
    }
   ],
   "source": [
    "from natasha import (\n",
    "    Segmenter,\n",
    "    MorphVocab,\n",
    "    NewsEmbedding,\n",
    "    NewsMorphTagger,\n",
    "    NewsSyntaxParser,\n",
    "    Doc\n",
    ")\n",
    "from razdel import tokenize  # Для токенизации текста\n",
    "import nltk\n",
    "from nltk.corpus import stopwords\n",
    "\n",
    "# Скачивание стоп-слов из NLTK\n",
    "nltk.download('stopwords')\n",
    "stop_words = set(stopwords.words('russian'))\n",
    "\n",
    "# Инициализация компонентов Natasha\n",
    "segmenter = Segmenter()  # Токенизатор и сегментатор текста\n",
    "morph_vocab = MorphVocab()  # Морфологический словарь\n",
    "emb = NewsEmbedding()  # Предобученные эмбединги для анализа\n",
    "morph_tagger = NewsMorphTagger(emb)  # Морфологический теггер\n",
    "syntax_parser = NewsSyntaxParser(emb)  # Синтаксический парсер (если нужен)\n",
    "\n",
    "def txt_processing(text, stop_words=stop_words):\n",
    "    # Создание объекта Doc для анализа текста\n",
    "    doc = Doc(text)\n",
    "\n",
    "    # Сегментация текста на предложения и токены\n",
    "    doc.segment(segmenter)\n",
    "\n",
    "    # Морфологический анализ\n",
    "    doc.tag_morph(morph_tagger)\n",
    "\n",
    "    # Лемматизация каждого токена\n",
    "    for token in doc.tokens:\n",
    "        token.lemmatize(morph_vocab)\n",
    "\n",
    "    # Фильтрация токенов: удаление стоп-слов и неалфавитных символов\n",
    "    filtered_tokens = [\n",
    "        token.lemma for token in doc.tokens\n",
    "        if token.lemma.lower() not in stop_words and token.lemma.isalpha()\n",
    "    ]\n",
    "\n",
    "    # Объединение лемм в строку\n",
    "    processed_text = \" \".join(filtered_tokens)\n",
    "\n",
    "    return processed_text"
   ]
  },
  {
   "cell_type": "code",
   "execution_count": 19,
   "id": "7fefad84",
   "metadata": {},
   "outputs": [],
   "source": [
    "for t in (\"title\", \"text\"):\n",
    "    sample_data[t] = sample_data[t].apply(txt_processing)"
   ]
  },
  {
   "cell_type": "markdown",
   "id": "02783f49-4514-4393-a5fd-b87205e74815",
   "metadata": {},
   "source": [
    "Пример статьи после предобработки"
   ]
  },
  {
   "cell_type": "code",
   "execution_count": 20,
   "id": "d0b6b6f6",
   "metadata": {},
   "outputs": [
    {
     "data": {
      "text/plain": [
       "'ученый новосибирский институт химический биология фундаментальный медицина ихбфма рана красноярский институт биофизика ибф рана создать биосенсор способный высокий точность распознавать клещевой энцефалит это сообщать ссылка представитель ихбфма рана разработка представлять биолюминисцентный зонд основа клонировать белок мягкий коралл преимущество биосенсор высокий чувствительность который позволять выявить незначительный количество вирус клещевой энцефалит говориться официальный издание рана наука сибирь тестирование энцефалит клещ размалываться экстрагироваться водный часть который мочь содержать вирус затем водный суспензия вноситься ячейка содержать антитело далее добавляться биолюминисцентный зонд вирус присутствовать зонд подать сигнал пояснить ученый выявить клещевой энцефалит кровь сложнее присутствовать недолго проникать нервный система основный применение зонд экспресспроверкий клещ переносить заболевание начало массовый практический применение зонд нужный провести ряд эксперимент оптимизировать прототип тестсистема впоследствии открытие ученый мочь использовать выявление вирус клещевой вирусный энцефалит тяжелый инфекционный заболевание переносчик который являться заразить клещ основной метод выявление вирус проверка укусить человек клещ год число пострадать укус клещ россиянин увеличиться процент сравнение год ранее процент весь заразить житель страна прийтись сибирский федеральный округ случай заболевание клещевой энцефалит зарегистрировать красноярский край это самый высокий показатель россия'"
      ]
     },
     "execution_count": 20,
     "metadata": {},
     "output_type": "execute_result"
    }
   ],
   "source": [
    "sample_data['text'][0]"
   ]
  },
  {
   "cell_type": "markdown",
   "id": "2d4354e5",
   "metadata": {},
   "source": [
    "## Разделим выборку на train test val"
   ]
  },
  {
   "cell_type": "code",
   "execution_count": 21,
   "id": "f225549e",
   "metadata": {},
   "outputs": [],
   "source": [
    "train_df, temp_df = train_test_split(sample_data, test_size=0.4, stratify=sample_data[\"topic\"], random_state=RANDOM_STATE)\n",
    "val_df, test_df = train_test_split(temp_df, test_size=0.5, stratify=temp_df[\"topic\"], random_state=RANDOM_STATE)"
   ]
  },
  {
   "cell_type": "markdown",
   "id": "fd9ea60e-b001-480d-995f-6714d778b99e",
   "metadata": {},
   "source": [
    "Посмотрим на распределение данных в датастет(в силу стратификации, во всех 3х частях примерно одинаковое распределение)"
   ]
  },
  {
   "cell_type": "code",
   "execution_count": 22,
   "id": "3ce2faf5",
   "metadata": {},
   "outputs": [
    {
     "name": "stdout",
     "output_type": "stream",
     "text": [
      "topic\n",
      "Россия               0.216917\n",
      "Мир                  0.185662\n",
      "Экономика            0.107647\n",
      "Спорт                0.087680\n",
      "Культура             0.073054\n",
      "Наука и техника      0.071856\n",
      "Бывший СССР          0.070854\n",
      "Интернет и СМИ       0.060385\n",
      "Из жизни             0.037642\n",
      "Дом                  0.029389\n",
      "Силовые структуры    0.026612\n",
      "Ценности             0.010590\n",
      "Бизнес               0.009847\n",
      "Путешествия          0.008754\n",
      "69-я параллель       0.001730\n",
      "Крым                 0.000910\n",
      "Культпросвет         0.000470\n",
      "Name: proportion, dtype: float64\n"
     ]
    }
   ],
   "source": [
    "print(train_df[\"topic\"].value_counts(normalize=True))"
   ]
  },
  {
   "cell_type": "markdown",
   "id": "4864a6a1-d50a-4949-8b89-5d42ed765ac5",
   "metadata": {},
   "source": [
    "# Используем dummy классификатор со стратифицированным распределением"
   ]
  },
  {
   "cell_type": "code",
   "execution_count": 23,
   "id": "bea35b9c-1f7e-4dbf-9bcc-187dee8920e0",
   "metadata": {},
   "outputs": [
    {
     "name": "stdout",
     "output_type": "stream",
     "text": [
      "                   precision    recall  f1-score   support\n",
      "\n",
      "   69-я параллель       0.00      0.00      0.00        38\n",
      "           Бизнес       0.03      0.02      0.02       216\n",
      "      Бывший СССР       0.07      0.07      0.07      1557\n",
      "              Дом       0.02      0.02      0.02       646\n",
      "         Из жизни       0.05      0.05      0.05       828\n",
      "   Интернет и СМИ       0.06      0.06      0.06      1326\n",
      "             Крым       0.00      0.00      0.00        20\n",
      "    Культпросвет        0.00      0.00      0.00        10\n",
      "         Культура       0.07      0.07      0.07      1605\n",
      "              Мир       0.19      0.19      0.19      4079\n",
      "  Наука и техника       0.07      0.08      0.07      1579\n",
      "      Путешествия       0.01      0.01      0.01       192\n",
      "           Россия       0.22      0.22      0.22      4765\n",
      "Силовые структуры       0.01      0.01      0.01       585\n",
      "            Спорт       0.09      0.09      0.09      1926\n",
      "         Ценности       0.00      0.00      0.00       233\n",
      "        Экономика       0.10      0.10      0.10      2365\n",
      "\n",
      "         accuracy                           0.12     21970\n",
      "        macro avg       0.06      0.06      0.06     21970\n",
      "     weighted avg       0.12      0.12      0.12     21970\n",
      "\n"
     ]
    }
   ],
   "source": [
    "dummy_clf = DummyClassifier(strategy=\"stratified\", random_state=RANDOM_STATE)\n",
    "dummy_clf.fit(train_df['text'], train_df['topic'])\n",
    "\n",
    "y_pred = dummy_clf.predict(val_df['text'])\n",
    "\n",
    "print(classification_report(val_df['topic'], y_pred))"
   ]
  },
  {
   "cell_type": "markdown",
   "id": "f69f1f87-aab4-45f9-9ce4-54be4e84b4bb",
   "metadata": {},
   "source": [
    "Как видим, бейзлайн показывает достаточно низкое качество, в частности accuracy = 0.12"
   ]
  },
  {
   "cell_type": "markdown",
   "id": "caee74fb-8e1b-4f92-bf47-0a3ecb414745",
   "metadata": {},
   "source": [
    "## Обучим модель sklearn.linear_model.LogisticRegression с двумя вариантами векторизации"
   ]
  },
  {
   "cell_type": "code",
   "execution_count": 24,
   "id": "d197ebeb-6c17-407c-9721-6dced3f2427a",
   "metadata": {},
   "outputs": [
    {
     "name": "stderr",
     "output_type": "stream",
     "text": [
      "C:\\Users\\lsd24\\AppData\\Local\\Programs\\Python\\Python311\\Lib\\site-packages\\sklearn\\linear_model\\_logistic.py:469: ConvergenceWarning: lbfgs failed to converge (status=1):\n",
      "STOP: TOTAL NO. of ITERATIONS REACHED LIMIT.\n",
      "\n",
      "Increase the number of iterations (max_iter) or scale the data as shown in:\n",
      "    https://scikit-learn.org/stable/modules/preprocessing.html\n",
      "Please also refer to the documentation for alternative solver options:\n",
      "    https://scikit-learn.org/stable/modules/linear_model.html#logistic-regression\n",
      "  n_iter_i = _check_optimize_result(\n"
     ]
    },
    {
     "name": "stdout",
     "output_type": "stream",
     "text": [
      "                   precision    recall  f1-score   support\n",
      "\n",
      "   69-я параллель       0.71      0.26      0.38        38\n",
      "           Бизнес       0.56      0.42      0.48       216\n",
      "      Бывший СССР       0.82      0.78      0.80      1557\n",
      "              Дом       0.86      0.76      0.81       646\n",
      "         Из жизни       0.63      0.58      0.61       828\n",
      "   Интернет и СМИ       0.73      0.69      0.71      1326\n",
      "             Крым       0.67      0.30      0.41        20\n",
      "    Культпросвет        0.50      0.10      0.17        10\n",
      "         Культура       0.85      0.87      0.86      1605\n",
      "              Мир       0.78      0.80      0.79      4079\n",
      "  Наука и техника       0.83      0.82      0.82      1579\n",
      "      Путешествия       0.75      0.62      0.68       192\n",
      "           Россия       0.76      0.82      0.79      4765\n",
      "Силовые структуры       0.61      0.51      0.56       585\n",
      "            Спорт       0.95      0.96      0.96      1926\n",
      "         Ценности       0.88      0.85      0.86       233\n",
      "        Экономика       0.82      0.84      0.83      2365\n",
      "\n",
      "         accuracy                           0.80     21970\n",
      "        macro avg       0.75      0.65      0.68     21970\n",
      "     weighted avg       0.80      0.80      0.80     21970\n",
      "\n"
     ]
    }
   ],
   "source": [
    "logreg = LogisticRegression(random_state=RANDOM_STATE)\n",
    "vectorizer = CountVectorizer()\n",
    "X = vectorizer.fit_transform(train_df['text'])\n",
    "\n",
    "logreg.fit(X, train_df[\"topic\"])\n",
    "y_pred = logreg.predict(vectorizer.transform(val_df[\"text\"]))\n",
    "\n",
    "print(classification_report(val_df['topic'], y_pred))"
   ]
  },
  {
   "cell_type": "code",
   "execution_count": 25,
   "id": "f84f08d5-27e1-48f2-94d4-2bfe8e05fa4a",
   "metadata": {},
   "outputs": [
    {
     "name": "stderr",
     "output_type": "stream",
     "text": [
      "C:\\Users\\lsd24\\AppData\\Local\\Programs\\Python\\Python311\\Lib\\site-packages\\sklearn\\linear_model\\_logistic.py:469: ConvergenceWarning: lbfgs failed to converge (status=1):\n",
      "STOP: TOTAL NO. of ITERATIONS REACHED LIMIT.\n",
      "\n",
      "Increase the number of iterations (max_iter) or scale the data as shown in:\n",
      "    https://scikit-learn.org/stable/modules/preprocessing.html\n",
      "Please also refer to the documentation for alternative solver options:\n",
      "    https://scikit-learn.org/stable/modules/linear_model.html#logistic-regression\n",
      "  n_iter_i = _check_optimize_result(\n",
      "C:\\Users\\lsd24\\AppData\\Local\\Programs\\Python\\Python311\\Lib\\site-packages\\sklearn\\metrics\\_classification.py:1531: UndefinedMetricWarning: Precision is ill-defined and being set to 0.0 in labels with no predicted samples. Use `zero_division` parameter to control this behavior.\n",
      "  _warn_prf(average, modifier, f\"{metric.capitalize()} is\", len(result))\n"
     ]
    },
    {
     "name": "stdout",
     "output_type": "stream",
     "text": [
      "                   precision    recall  f1-score   support\n",
      "\n",
      "   69-я параллель       0.00      0.00      0.00        38\n",
      "           Бизнес       0.83      0.14      0.24       216\n",
      "      Бывший СССР       0.82      0.78      0.80      1557\n",
      "              Дом       0.86      0.72      0.78       646\n",
      "         Из жизни       0.66      0.56      0.60       828\n",
      "   Интернет и СМИ       0.77      0.67      0.72      1326\n",
      "             Крым       0.00      0.00      0.00        20\n",
      "    Культпросвет        0.00      0.00      0.00        10\n",
      "         Культура       0.82      0.88      0.85      1605\n",
      "              Мир       0.79      0.84      0.82      4079\n",
      "  Наука и техника       0.83      0.86      0.84      1579\n",
      "      Путешествия       0.76      0.47      0.58       192\n",
      "           Россия       0.76      0.85      0.80      4765\n",
      "Силовые структуры       0.72      0.35      0.47       585\n",
      "            Спорт       0.96      0.97      0.96      1926\n",
      "         Ценности       0.91      0.74      0.82       233\n",
      "        Экономика       0.82      0.87      0.84      2365\n",
      "\n",
      "         accuracy                           0.81     21970\n",
      "        macro avg       0.67      0.57      0.60     21970\n",
      "     weighted avg       0.80      0.81      0.80     21970\n",
      "\n"
     ]
    },
    {
     "name": "stderr",
     "output_type": "stream",
     "text": [
      "C:\\Users\\lsd24\\AppData\\Local\\Programs\\Python\\Python311\\Lib\\site-packages\\sklearn\\metrics\\_classification.py:1531: UndefinedMetricWarning: Precision is ill-defined and being set to 0.0 in labels with no predicted samples. Use `zero_division` parameter to control this behavior.\n",
      "  _warn_prf(average, modifier, f\"{metric.capitalize()} is\", len(result))\n",
      "C:\\Users\\lsd24\\AppData\\Local\\Programs\\Python\\Python311\\Lib\\site-packages\\sklearn\\metrics\\_classification.py:1531: UndefinedMetricWarning: Precision is ill-defined and being set to 0.0 in labels with no predicted samples. Use `zero_division` parameter to control this behavior.\n",
      "  _warn_prf(average, modifier, f\"{metric.capitalize()} is\", len(result))\n"
     ]
    }
   ],
   "source": [
    "logreg = LogisticRegression(random_state=RANDOM_STATE)\n",
    "vectorizer = TfidfVectorizer()\n",
    "X = vectorizer.fit_transform(train_df['text'])\n",
    "\n",
    "logreg.fit(X, train_df[\"topic\"])\n",
    "y_pred = logreg.predict(vectorizer.transform(val_df[\"text\"]))\n",
    "\n",
    "print(classification_report(val_df['topic'], y_pred))"
   ]
  },
  {
   "cell_type": "markdown",
   "id": "86693643-d3ac-40df-84bf-f66b23455622",
   "metadata": {},
   "source": [
    "При том, что по теории tf-idf векторизатор должен быть лучше, на практие для нашей задачи качество 2х моделей близкое"
   ]
  },
  {
   "cell_type": "markdown",
   "id": "3363fdf7-fb5e-4d60-a433-9ac7d07e18cc",
   "metadata": {},
   "source": [
    "## Запустим optuna для подбора лучших гиперпараметров на кроссвалидации и проверим качество лучшей модели"
   ]
  },
  {
   "cell_type": "code",
   "execution_count": 26,
   "id": "56e058a5-7d09-446d-b109-8b632696e79e",
   "metadata": {
    "scrolled": true
   },
   "outputs": [],
   "source": [
    "def create_vectorizer(trial, vec_type):\n",
    "    params = {}\n",
    "    prefix = f\"{vec_type}__\"\n",
    "    \n",
    "    if vec_type == \"tfidf\":\n",
    "        params.update({\n",
    "            \"ngram_range\": trial.suggest_categorical(f\"{prefix}ngram_range\", [(1,1), (1,2)]),\n",
    "            \"max_df\": trial.suggest_float(f\"{prefix}max_df\", 0.75, 1.0),\n",
    "            \"min_df\": trial.suggest_int(f\"{prefix}min_df\", 1, 5),\n",
    "            \"use_idf\": trial.suggest_categorical(f\"{prefix}use_idf\", [True, False])\n",
    "        })\n",
    "        return TfidfVectorizer(**params)\n",
    "        \n",
    "    elif vec_type == \"count\":\n",
    "        params.update({\n",
    "            \"ngram_range\": trial.suggest_categorical(f\"{prefix}ngram_range\", [(1,1), (1,2)]),\n",
    "            \"max_df\": trial.suggest_float(f\"{prefix}max_df\", 0.75, 1.0),\n",
    "            \"min_df\": trial.suggest_int(f\"{prefix}min_df\", 1, 5)\n",
    "        })\n",
    "        return CountVectorizer(**params)\n",
    "\n",
    "def build_model_pipeline(trial):\n",
    "    vectorizer_type = trial.suggest_categorical(\"vectorizer\", [\"tfidf\", \"count\"])\n",
    "    vectorizer = create_vectorizer(trial, vectorizer_type)\n",
    "    \n",
    "    logreg_params = {\n",
    "        \"C\": trial.suggest_float(\"logreg__C\", 0.1, 10.0, log=True)\n",
    "    }\n",
    "    \n",
    "    return Pipeline([\n",
    "        ('vectorizer', vectorizer),\n",
    "        ('classifier', LogisticRegression(\n",
    "            solver='liblinear',\n",
    "            class_weight='balanced',\n",
    "            **logreg_params\n",
    "        ))\n",
    "    ])\n",
    "\n",
    "def cross_validate_pipeline(pipeline, X, y, n_splits=10, random_seed=42):\n",
    "    cv = StratifiedKFold(n_splits=n_splits, shuffle=True, random_state=random_seed)\n",
    "    scores = []\n",
    "    \n",
    "    for train_idx, val_idx in cv.split(X, y):\n",
    "        X_train, X_val = X.iloc[train_idx], X.iloc[val_idx]\n",
    "        y_train, y_val = y.iloc[train_idx], y.iloc[val_idx]\n",
    "        \n",
    "        pipeline.fit(X_train, y_train)\n",
    "        y_pred = pipeline.predict(X_val)\n",
    "        scores.append(f1_score(y_val, y_pred, average='weighted'))\n",
    "    \n",
    "    return sum(scores) / len(scores)\n",
    "\n",
    "def optimize_hyperparameters(X_train, y_train, n_trials=4, random_seed=42):\n",
    "    def objective(trial):\n",
    "        pipeline = build_model_pipeline(trial)\n",
    "        return cross_validate_pipeline(pipeline, X_train, y_train, random_seed=random_seed)\n",
    "    \n",
    "    study = optuna.create_study(\n",
    "        direction=\"maximize\",\n",
    "        sampler=optuna.samplers.TPESampler(seed=random_seed)\n",
    "    )\n",
    "    study.optimize(objective, n_trials=n_trials)\n",
    "    return study.best_params, study.best_value"
   ]
  },
  {
   "cell_type": "code",
   "execution_count": 27,
   "id": "df140a43-51b4-4bcd-bf58-e887991e42c4",
   "metadata": {},
   "outputs": [],
   "source": [
    "def train_final_model(params, X_train, y_train):\n",
    "    vectorizer_type = params['vectorizer']\n",
    "    # Создаем векторизатор\n",
    "    vec_params = {k.replace(f\"{vectorizer_type}__\", \"\"): v \n",
    "                 for k, v in params.items() if k.startswith(f\"{vectorizer_type}__\")}\n",
    "    vectorizer = TfidfVectorizer(**vec_params) if vectorizer_type == \"tfidf\" else CountVectorizer(**vec_params)\n",
    "    \n",
    "    # Создаем модель\n",
    "    logreg_c = params['logreg__C']\n",
    "    classifier = LogisticRegression(\n",
    "        solver='liblinear',\n",
    "        class_weight='balanced',\n",
    "        C=logreg_c\n",
    "    )\n",
    "    \n",
    "    pipeline = Pipeline([\n",
    "        ('vectorizer', vectorizer),\n",
    "        ('classifier', classifier)\n",
    "    ])\n",
    "    \n",
    "    return pipeline.fit(X_train, y_train)\n",
    "\n",
    "def run_experiment(train_data, val_data, test_data, target_col=\"topic\", \n",
    "                  n_folds=3, n_trials=4, random_seed=42):\n",
    "    # Подготовка данных\n",
    "    X_train_val = pd.concat([train_data['text'], val_data['text']])\n",
    "    y_train_val = pd.concat([train_data[target_col], val_data[target_col]])\n",
    "    \n",
    "    # Оптимизация гиперпараметров\n",
    "    best_params, best_score = optimize_hyperparameters(\n",
    "        X_train_val, \n",
    "        y_train_val,\n",
    "        n_trials=n_trials,\n",
    "        random_seed=random_seed\n",
    "    )\n",
    "    print(f\"Оптимальные параметры: {best_params}\")\n",
    "    print(f\"Лучший F1-score: {best_score:.4f}\")\n",
    "    \n",
    "    # Обучение финальной модели\n",
    "    final_model = train_final_model(best_params, train_data['text'], train_data[target_col])\n",
    "    \n",
    "    # Оценка на тестовых данных\n",
    "    y_test = test_data[target_col]\n",
    "    y_pred = final_model.predict(test_data['text'])\n",
    "    \n",
    "    print(\"\\nРезультаты на тестовой выборке:\")\n",
    "    print(classification_report(y_test, y_pred))\n",
    "    \n",
    "    return final_model, y_pred"
   ]
  },
  {
   "cell_type": "code",
   "execution_count": 28,
   "id": "4ef39b68-0bf1-4b90-80aa-ef2ae3ea24a7",
   "metadata": {
    "scrolled": true
   },
   "outputs": [
    {
     "name": "stderr",
     "output_type": "stream",
     "text": [
      "[I 2025-03-08 19:26:31,483] A new study created in memory with name: no-name-261c8529-ae95-434d-9d33-08cc4cd094e7\n",
      "C:\\Users\\lsd24\\AppData\\Local\\Programs\\Python\\Python311\\Lib\\site-packages\\optuna\\distributions.py:524: UserWarning: Choices for a categorical distribution should be a tuple of None, bool, int, float and str for persistent storage but contains (1, 1) which is of type tuple.\n",
      "  warnings.warn(message)\n",
      "C:\\Users\\lsd24\\AppData\\Local\\Programs\\Python\\Python311\\Lib\\site-packages\\optuna\\distributions.py:524: UserWarning: Choices for a categorical distribution should be a tuple of None, bool, int, float and str for persistent storage but contains (1, 2) which is of type tuple.\n",
      "  warnings.warn(message)\n",
      "[I 2025-03-08 19:42:39,515] Trial 0 finished with value: 0.8163192431151867 and parameters: {'vectorizer': 'count', 'count__ngram_range': (1, 1), 'count__max_df': 0.7890046601106091, 'count__min_df': 1, 'logreg__C': 0.13066739238053282}. Best is trial 0 with value: 0.8163192431151867.\n",
      "C:\\Users\\lsd24\\AppData\\Local\\Programs\\Python\\Python311\\Lib\\site-packages\\optuna\\distributions.py:524: UserWarning: Choices for a categorical distribution should be a tuple of None, bool, int, float and str for persistent storage but contains (1, 1) which is of type tuple.\n",
      "  warnings.warn(message)\n",
      "C:\\Users\\lsd24\\AppData\\Local\\Programs\\Python\\Python311\\Lib\\site-packages\\optuna\\distributions.py:524: UserWarning: Choices for a categorical distribution should be a tuple of None, bool, int, float and str for persistent storage but contains (1, 2) which is of type tuple.\n",
      "  warnings.warn(message)\n",
      "[I 2025-03-08 19:47:51,254] Trial 1 finished with value: 0.7875221601902843 and parameters: {'vectorizer': 'tfidf', 'tfidf__ngram_range': (1, 1), 'tfidf__max_df': 0.9924774630404986, 'tfidf__min_df': 5, 'tfidf__use_idf': True, 'logreg__C': 0.2327067708383781}. Best is trial 0 with value: 0.8163192431151867.\n",
      "C:\\Users\\lsd24\\AppData\\Local\\Programs\\Python\\Python311\\Lib\\site-packages\\optuna\\distributions.py:524: UserWarning: Choices for a categorical distribution should be a tuple of None, bool, int, float and str for persistent storage but contains (1, 1) which is of type tuple.\n",
      "  warnings.warn(message)\n",
      "C:\\Users\\lsd24\\AppData\\Local\\Programs\\Python\\Python311\\Lib\\site-packages\\optuna\\distributions.py:524: UserWarning: Choices for a categorical distribution should be a tuple of None, bool, int, float and str for persistent storage but contains (1, 2) which is of type tuple.\n",
      "  warnings.warn(message)\n",
      "[I 2025-03-08 20:08:34,138] Trial 2 finished with value: 0.8131655280328586 and parameters: {'vectorizer': 'count', 'count__ngram_range': (1, 1), 'count__max_df': 0.9029632236805949, 'count__min_df': 1, 'logreg__C': 0.3839629299804172}. Best is trial 0 with value: 0.8163192431151867.\n",
      "C:\\Users\\lsd24\\AppData\\Local\\Programs\\Python\\Python311\\Lib\\site-packages\\optuna\\distributions.py:524: UserWarning: Choices for a categorical distribution should be a tuple of None, bool, int, float and str for persistent storage but contains (1, 1) which is of type tuple.\n",
      "  warnings.warn(message)\n",
      "C:\\Users\\lsd24\\AppData\\Local\\Programs\\Python\\Python311\\Lib\\site-packages\\optuna\\distributions.py:524: UserWarning: Choices for a categorical distribution should be a tuple of None, bool, int, float and str for persistent storage but contains (1, 2) which is of type tuple.\n",
      "  warnings.warn(message)\n",
      "[I 2025-03-08 20:22:11,121] Trial 3 finished with value: 0.8154554372548273 and parameters: {'vectorizer': 'count', 'count__ngram_range': (1, 1), 'count__max_df': 0.8785586096034029, 'count__min_df': 3, 'logreg__C': 0.1238513729886093}. Best is trial 0 with value: 0.8163192431151867.\n"
     ]
    },
    {
     "name": "stdout",
     "output_type": "stream",
     "text": [
      "Оптимальные параметры: {'vectorizer': 'count', 'count__ngram_range': (1, 1), 'count__max_df': 0.7890046601106091, 'count__min_df': 1, 'logreg__C': 0.13066739238053282}\n",
      "Лучший F1-score: 0.8163\n",
      "\n",
      "Результаты на тестовой выборке:\n",
      "                   precision    recall  f1-score   support\n",
      "\n",
      "   69-я параллель       0.67      0.47      0.55        38\n",
      "           Бизнес       0.54      0.51      0.52       216\n",
      "      Бывший СССР       0.81      0.87      0.84      1557\n",
      "              Дом       0.83      0.82      0.83       646\n",
      "         Из жизни       0.61      0.62      0.61       827\n",
      "   Интернет и СМИ       0.76      0.73      0.74      1327\n",
      "             Крым       0.58      0.35      0.44        20\n",
      "    Культпросвет        0.29      0.20      0.24        10\n",
      "         Культура       0.86      0.89      0.88      1605\n",
      "              Мир       0.82      0.82      0.82      4080\n",
      "  Наука и техника       0.83      0.84      0.84      1579\n",
      "      Путешествия       0.74      0.70      0.72       192\n",
      "           Россия       0.83      0.80      0.81      4766\n",
      "Силовые структуры       0.61      0.62      0.61       584\n",
      "            Спорт       0.96      0.98      0.97      1927\n",
      "         Ценности       0.81      0.82      0.81       232\n",
      "        Экономика       0.85      0.86      0.85      2365\n",
      "\n",
      "         accuracy                           0.82     21971\n",
      "        macro avg       0.73      0.70      0.71     21971\n",
      "     weighted avg       0.82      0.82      0.82     21971\n",
      "\n"
     ]
    }
   ],
   "source": [
    "model, predictions = run_experiment(train_df, val_df, test_df, target_col=\"topic\")"
   ]
  },
  {
   "cell_type": "markdown",
   "id": "7b21e0ed-ecb9-48c3-b21e-3819dfa4ae28",
   "metadata": {},
   "source": [
    "Как видим, качество выросло не сильно, но тем не менее оно и так высоко в особенности по сравнению с бейзлайном\n",
    "(потсавил кол-во итераций опутны поменьше, тк на моем ноутбуке работае безумно долго)"
   ]
  },
  {
   "cell_type": "code",
   "execution_count": null,
   "id": "9bd047a9-3abc-43e8-9482-a48bfb7dbda5",
   "metadata": {},
   "outputs": [],
   "source": []
  }
 ],
 "metadata": {
  "kaggle": {
   "accelerator": "none",
   "dataSources": [],
   "dockerImageVersionId": 30918,
   "isGpuEnabled": false,
   "isInternetEnabled": true,
   "language": "python",
   "sourceType": "notebook"
  },
  "kernelspec": {
   "display_name": "Python 3 (ipykernel)",
   "language": "python",
   "name": "python3"
  },
  "language_info": {
   "codemirror_mode": {
    "name": "ipython",
    "version": 3
   },
   "file_extension": ".py",
   "mimetype": "text/x-python",
   "name": "python",
   "nbconvert_exporter": "python",
   "pygments_lexer": "ipython3",
   "version": "3.11.9"
  }
 },
 "nbformat": 4,
 "nbformat_minor": 5
}
